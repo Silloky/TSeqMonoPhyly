{
   "cells": [
      {
         "cell_type": "code",
         "execution_count": 8,
         "metadata": {},
         "outputs": [],
         "source": [
            "import pandas as pd\n",
            "import tskit as tsk\n",
            "import numpy as np\n",
            "from multiprocessing import Pool\n",
            "from datetime import datetime\n",
            "import json\n",
            "import os\n",
            "\n",
            "# %run -i \"../isRecipMonophyletic.py\" TO DEFINE NEW FUNCTION\n",
            "\n",
            "perFile = True\n",
            "\n",
            "if (perFile) :\n",
            "\tinputdir = '../../data/real/'\n",
            "\tinputs = [ # List of input .trees files\n",
            "\t\t\"cgal379.trees\",\n",
            "\t\t\"Cgale_87_dated.trees\",\n",
            "\t\t\"Cgale_952_dated.trees\"\n",
            "\t]\n",
            "else :\n",
            "\tinputdir = 'B:\\\\storage\\\\general-elias\\\\Code\\\\TS_FILES'\n",
            "\tinputs = os.listdir(inputdir) # List of input .trees files\n",
            "\n",
            "startTime = datetime.now() # For performance measurement"
         ]
      },
      {
         "cell_type": "code",
         "execution_count": 9,
         "metadata": {},
         "outputs": [],
         "source": [
            "def loadFile(filename) : # Does all the necessary imports on a single file\n",
            "    sqObj = tsk.load(inputdir + filename)\n",
            "\n",
            "    populations = str(sqObj.tables.populations.asdict()) # For later check, see cell 4\n",
            "\n",
            "    pop_by_node = pd.DataFrame({ # Only one of these will be kept, thus the check above\n",
            "        \"pop\": [sqObj.tables.nodes[leaf].population for leaf in sqObj.samples()], # Get the population of each leaf\n",
            "    })\n",
            "\n",
            "    # Create standalone pandas DataFrame for easier manipulation of data than tskit's tables...\n",
            "\n",
            "    pd_sequence = pd.DataFrame(\n",
            "        {\n",
            "            'file': filename, # Gets the originating filename for future reference\n",
            "            'span': [tree.span for tree in sqObj.trees()],\n",
            "            'bounds': [(tree.interval.left, tree.interval.right) for tree in sqObj.trees()], # Loads the tree's bound in a tuple\n",
            "            'treeObj' : sqObj.aslist()\n",
            "        },\n",
            "        index=[tree.index for tree in sqObj.trees()]\n",
            "    )\n",
            "\n",
            "    return sqObj, populations, pop_by_node, pd_sequence # All the information needed from a tree sequence"
         ]
      },
      {
         "cell_type": "code",
         "execution_count": 10,
         "metadata": {},
         "outputs": [],
         "source": [
            "files = pd.DataFrame({ # Initiates the DataFrame with the input files\n",
            "    'file': inputs,\n",
            "})\n",
            "\n",
            "# Fill the files DataFrame with the necessary information\n",
            "files[['sqObj', 'populations', 'pop_by_node', 'pd_sequence']] = files.apply(lambda row: loadFile(row['file']), axis=1, result_type=\"expand\")"
         ]
      },
      {
         "cell_type": "code",
         "execution_count": 11,
         "metadata": {},
         "outputs": [],
         "source": [
            "# *The* check I was talking about earlier. If the populations are not the same, that's a problem...\n",
            "if files.populations.nunique() != 1:\n",
            "    raise ValueError(\"All the files do not have the same populations. Are you sure this is the same species ?\")\n",
            "else :\n",
            "    pop_by_node = files.pop_by_node[0]"
         ]
      },
      {
         "cell_type": "code",
         "execution_count": 12,
         "metadata": {},
         "outputs": [],
         "source": [
            "pop_groups = [ # Group the populations according to real data\n",
            "    [0, 1], \n",
            "    [2, 3]\n",
            "]"
         ]
      },
      {
         "cell_type": "code",
         "execution_count": 13,
         "metadata": {},
         "outputs": [],
         "source": [
            "# TOOL FOR AUTOMATIC COLORING (I know, it shouldn't really be here...)\n",
            "\n",
            "# Define a list of predefined colors\n",
            "predefined_colors = [\"red\", \"blue\", \"green\", \"yellow\", \"orange\", \"purple\", \"brown\", \"pink\"] # Maximum 8 populations...\n",
            "\n",
            "# Initialize node_colours dictionary\n",
            "node_colours = {}\n",
            "\n",
            "# Example :\n",
            "exSq = files.iloc[0].sqObj\n",
            "\n",
            "for node_index, node in enumerate(exSq.tables.nodes):\n",
            "\tif (node.flags & tsk.NODE_IS_SAMPLE) != 0: # If node is a sample\n",
            "\t\t\n",
            "\t\t# Assign color from predefined list, cycling through colors if necessary\n",
            "\t\tcolor = predefined_colors[node.population % len(predefined_colors)]\n",
            "\t\tnode_colours[node_index] = color\n",
            "\n"
         ]
      },
      {
         "cell_type": "code",
         "execution_count": 14,
         "metadata": {},
         "outputs": [],
         "source": [
            "# Generates a global pd_sequence from all the files to treat them as one.\n",
            "globalTS = pd.concat(files.pd_sequence.to_list(), ignore_index=True)"
         ]
      },
      {
         "cell_type": "markdown",
         "metadata": {},
         "source": [
            "### Bootstrap approach"
         ]
      },
      {
         "cell_type": "code",
         "execution_count": 29,
         "metadata": {},
         "outputs": [],
         "source": [
            "n_threads = 0 # Threads to use for multiprocessing, 0 means no multiprocessing\n",
            "n_samples = 0 # 0 means no bootstrapping\n",
            "\n",
            "def f(i) : # Define util to be run in parallel\n",
            "    np.random.seed(i + np.random.randint(0, 10000)) # Necessary, because otherwise all workers will have the same seed\n",
            "    bootstrap = globalTS.sample(n=int(len(globalTS) * 0.9), replace=True) # Use pandas sample method to take random trees in the sequence for monophyly test\n",
            "    bootstrap['monophyletic'] = bootstrap.apply(lambda x: isRecipMonophyletic(x.treeObj, pop_by_node, pop_groups), axis=1) # Runs the test\n",
            "    return bootstrap[bootstrap['monophyletic'] == True]['span'].sum() / bootstrap['span'].sum() # Gets the percentage of the sample trees that is monophyletic\n",
            "\n",
            "if n_threads > 0 :\n",
            "    pool = Pool(n_threads) # Create a pool of 2 workers\n",
            "    percentages = np.array(pool.map(f, range(n_samples))) * 100 # Run bootstrap twice in parallel\n",
            "else :\n",
            "    percentages = np.array(list(map(f, range(n_samples)))) * 100"
         ]
      },
      {
         "cell_type": "markdown",
         "metadata": {},
         "source": [
            "### Monophyly test for the output"
         ]
      },
      {
         "cell_type": "code",
         "execution_count": 30,
         "metadata": {},
         "outputs": [],
         "source": [
            "# Runs the reciprocally monophyletic test on each tree and saves the boolean result in the monophyletic column\n",
            "\n",
            "globalTS['monophyletic'] = globalTS.apply(lambda x: isRecipMonophyletic(x.treeObj, pop_by_node, pop_groups), axis=1)\n",
            "singlepercentage = globalTS[globalTS['monophyletic'] == True]['span'].sum() / globalTS['span'].sum() * 100"
         ]
      },
      {
         "cell_type": "markdown",
         "metadata": {},
         "source": [
            "### Export results"
         ]
      },
      {
         "cell_type": "code",
         "execution_count": 31,
         "metadata": {},
         "outputs": [],
         "source": [
            "# Export sampling data\n",
            "\n",
            "if n_samples > 0 :\n",
            "    sampling = {\n",
            "\t\t\"meanSamplesPercentage\": percentages.mean(),\n",
            "\t\t\"samplesStdDev\": percentages.std(),\n",
            "\t\t\"confidence_interval\": {\n",
            "\t\t\t\"bounds\": [5, 95],\n",
            "\t\t\t\"lower\": np.percentile(percentages, 5),\n",
            "\t\t\t\"upper\": np.percentile(percentages, 95)\n",
            "\t\t},\n",
            "\t}\n",
            "else :\n",
            "    sampling = {}"
         ]
      },
      {
         "cell_type": "code",
         "execution_count": 32,
         "metadata": {},
         "outputs": [],
         "source": [
            "endTime = datetime.now()"
         ]
      },
      {
         "cell_type": "code",
         "execution_count": 33,
         "metadata": {},
         "outputs": [],
         "source": [
            "# Define output file format\n",
            "\n",
            "output = {\n",
            "    \"input\": {\n",
            "        \"dir\": inputdir,\n",
            "        \"files\": inputs\n",
            "\t},\n",
            "    \"test\": \"reciprocal_monophyly\",\n",
            "    \"description\": \"Reciprocal monophyly test on the tree sequence\",\n",
            "    \"analysis_settings\": {\n",
            "        \"bootstrap_samples\": n_samples,\n",
            "        \"pop_groups\": pop_groups,\n",
            "    },\n",
            "    \"perf\" : {\n",
            "        \"multiprocessing\": n_threads > 0,\n",
            "        \"threads\": n_threads,\n",
            "        \"start\": startTime,\n",
            "        \"end\": endTime,\n",
            "        \"duration\": endTime - startTime\n",
            "    },\n",
            "    \"result\": {\n",
            "        \"sampling\": sampling,\n",
            "        \"raw\": {\n",
            "\t\t\t\"positive\": int((globalTS['monophyletic'] == True).sum()),\n",
            "\t\t\t\"negative\": int((globalTS['monophyletic'] == False).sum()),\n",
            "\t\t\t\"total_trees\": len(globalTS),\n",
            "\t\t\t\"percentage\": singlepercentage,\n",
            "\t\t\t\"details\": globalTS[['file', 'bounds', 'span', 'monophyletic']].to_dict(orient='records')\n",
            "\t\t},\n",
            "\t}\n",
            "}"
         ]
      },
      {
         "cell_type": "code",
         "execution_count": 34,
         "metadata": {},
         "outputs": [],
         "source": [
            "json.dump(output, default=str, indent=4, fp=open(\"../../data/out/reciprocal_monophyly_result.json\", \"w\"))"
         ]
      }
   ],
   "metadata": {
      "kernelspec": {
         "display_name": "Python 3",
         "language": "python",
         "name": "python3"
      },
      "language_info": {
         "codemirror_mode": {
            "name": "ipython",
            "version": 3
         },
         "file_extension": ".py",
         "mimetype": "text/x-python",
         "name": "python",
         "nbconvert_exporter": "python",
         "pygments_lexer": "ipython3",
         "version": "3.12.4"
      }
   },
   "nbformat": 4,
   "nbformat_minor": 2
}
