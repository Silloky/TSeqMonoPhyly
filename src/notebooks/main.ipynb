{
 "cells": [
  {
   "cell_type": "code",
   "execution_count": 196,
   "metadata": {},
   "outputs": [],
   "source": [
    "import pandas as pd\n",
    "import tskit as tsk\n",
    "import numpy as np\n",
    "from multiprocessing import Pool\n",
    "from datetime import datetime\n",
    "import json\n",
    "import os\n",
    "\n",
    "%run -i \"../isRecipMonophyletic.py\" # TO DEFINE NEW FUNCTION\n",
    "\n",
    "perFile = True\n",
    "\n",
    "if (perFile) :\n",
    "    inputdir = '../../data/real/'\n",
    "    inputs = [ # List of input .trees files\n",
    "        # \"Cgale_182222_dated.trees\",\n",
    "        \"Cgale_87_dated.trees\",\n",
    "        # \"Cgale_952_dated.trees\"\n",
    "    ]\n",
    "else :\n",
    "    inputdir = 'B:\\\\storage\\\\general-elias\\\\Code\\\\TS_FILES'\n",
    "    inputs = os.listdir(inputdir) # List of input .trees files\n",
    "\n",
    "startTime = datetime.now() # For performance measurement"
   ]
  },
  {
   "cell_type": "code",
   "execution_count": 197,
   "metadata": {},
   "outputs": [],
   "source": [
    "def loadFile(filename) : # Does all the necessary imports on a single file\n",
    "    sqObj = tsk.load(inputdir + filename)\n",
    "\n",
    "    populations = str(sqObj.tables.populations.asdict()) # For later check, see cell 4\n",
    "\n",
    "    pop_by_node = pd.DataFrame({ # Only one of these will be kept, thus the check above\n",
    "        \"pop\": [sqObj.tables.nodes[leaf].population for leaf in sqObj.samples()], # Get the population of each leaf\n",
    "    })\n",
    "\n",
    "    # Create standalone pandas DataFrame for easier manipulation of data than tskit's tables...\n",
    "\n",
    "    pd_sequence = pd.DataFrame(\n",
    "        {\n",
    "            'file': filename, # Gets the originating filename for future reference\n",
    "            'span': [tree.span for tree in sqObj.trees()],\n",
    "            'bounds': [(tree.interval.left, tree.interval.right) for tree in sqObj.trees()], # Loads the tree's bound in a tuple\n",
    "            'treeObj' : sqObj.aslist()\n",
    "        },\n",
    "        index=[tree.index for tree in sqObj.trees()]\n",
    "    )\n",
    "\n",
    "    return sqObj, populations, pop_by_node, pd_sequence # All the information needed from a tree sequence"
   ]
  },
  {
   "cell_type": "code",
   "execution_count": 198,
   "metadata": {},
   "outputs": [],
   "source": [
    "files = pd.DataFrame({ # Initiates the DataFrame with the input files\n",
    "    'file': inputs,\n",
    "})\n",
    "\n",
    "# Fill the files DataFrame with the necessary information\n",
    "files[['sqObj', 'populations', 'pop_by_node', 'pd_sequence']] = files.apply(lambda row: loadFile(row['file']), axis=1, result_type=\"expand\")"
   ]
  },
  {
   "cell_type": "code",
   "execution_count": 199,
   "metadata": {},
   "outputs": [],
   "source": [
    "# *The* check I was talking about earlier. If the populations are not the same, that's a problem...\n",
    "if files.populations.nunique() != 1:\n",
    "    raise ValueError(\"All the files do not have the same populations. Are you sure this is the same species ?\")\n",
    "else :\n",
    "    pop_by_node = files.pop_by_node[0]"
   ]
  },
  {
   "cell_type": "code",
   "execution_count": 200,
   "metadata": {},
   "outputs": [],
   "source": [
    "pop_groups = [ # Group the populations according to real data\n",
    "    [0, 1], \n",
    "    [2, 3]\n",
    "]"
   ]
  },
  {
   "cell_type": "code",
   "execution_count": 201,
   "metadata": {},
   "outputs": [],
   "source": [
    "# TOOL FOR AUTOMATIC COLORING (I know, it shouldn't really be here...)\n",
    "\n",
    "# Define a list of predefined colors\n",
    "predefined_colors = [\"red\", \"blue\", \"green\", \"yellow\", \"orange\", \"purple\", \"brown\", \"pink\"] # Maximum 8 populations...\n",
    "\n",
    "# Initialize node_colours dictionary\n",
    "node_colours = {}\n",
    "\n",
    "# Example :\n",
    "exSq = files.iloc[0].sqObj\n",
    "\n",
    "for node_index, node in enumerate(exSq.tables.nodes):\n",
    "    if (node.flags & tsk.NODE_IS_SAMPLE) != 0: # If node is a sample\n",
    "        \n",
    "        # Assign color from predefined list, cycling through colors if necessary\n",
    "        color = predefined_colors[node.population % len(predefined_colors)]\n",
    "        node_colours[node_index] = color\n",
    "\n"
   ]
  },
  {
   "cell_type": "code",
   "execution_count": 202,
   "metadata": {},
   "outputs": [],
   "source": [
    "# Generates a global pd_sequence from all the files to treat them as one.\n",
    "globalTS = pd.concat(files.pd_sequence.to_list(), ignore_index=True)"
   ]
  },
  {
   "cell_type": "markdown",
   "metadata": {},
   "source": [
    "### Bootstrap approach for statistics"
   ]
  },
  {
   "cell_type": "code",
   "execution_count": 203,
   "metadata": {},
   "outputs": [],
   "source": [
    "%run -i \"../isRecipMonophyletic.py\" # TO DEFINE NEW FUNCTION"
   ]
  },
  {
   "cell_type": "code",
   "execution_count": 204,
   "metadata": {},
   "outputs": [
    {
     "data": {
      "image/svg+xml": [
       "<svg baseProfile=\"full\" height=\"700\" version=\"1.1\" width=\"1000\" xmlns=\"http://www.w3.org/2000/svg\" xmlns:ev=\"http://www.w3.org/2001/xml-events\" xmlns:xlink=\"http://www.w3.org/1999/xlink\"><defs><style type=\"text/css\"><![CDATA[.background path {fill: #808080; fill-opacity: 0}.background path:nth-child(odd) {fill-opacity: .1}.axes {font-size: 14px}.x-axis .tick .lab {font-weight: bold; dominant-baseline: hanging}.axes, .tree {font-size: 14px; text-anchor: middle}.axes line, .edge {stroke: black; fill: none}.axes .ax-skip {stroke-dasharray: 4}.y-axis .grid {stroke: #FAFAFA}.node > .sym {fill: black; stroke: none}.site > .sym {stroke: black}.mut text {fill: red; font-style: italic}.mut.extra text {fill: hotpink}.mut line {fill: none; stroke: none}.mut .sym {fill: none; stroke: red}.mut.extra .sym {stroke: hotpink}.node .mut .sym {stroke-width: 1.5px}.tree text, .tree-sequence text {dominant-baseline: central}.plotbox .lab.lft {text-anchor: end}.plotbox .lab.rgt {text-anchor: start}]]></style></defs><g class=\"tree t2\"><g class=\"plotbox\"><g class=\"c2 node n697 root\" transform=\"translate(574.625 26.8)\"><g class=\"a697 c3 node n612\" transform=\"translate(-273.375 262.869)\"><g class=\"a612 c3 m40 node n425 s17\" transform=\"translate(-174.75 93.7172)\"><g class=\"a425 i9 leaf m42 node n18 p1 s19 sample\" transform=\"translate(25.5 284.814)\"><path class=\"edge\" d=\"M 0 0 V -284.814 H -25.5\" /><g class=\"mut m42 s19 unknown_time\" transform=\"translate(0 -142.407)\"><line x1=\"0\" x2=\"0\" y1=\"0\" y2=\"142.407\" /><path class=\"sym\" d=\"M -3,-3 l 6,6 M -3,3 l 6,-6\" /><text class=\"lab rgt\" transform=\"translate(5 0)\">42</text></g><rect class=\"sym\" height=\"6\" style=\"fill:blue;\" width=\"6\" x=\"-3\" y=\"-3\" /><text class=\"lab\" transform=\"translate(0 11)\">18</text></g><g class=\"a425 c2 m37 node n69 s15\" transform=\"translate(61.5 193.995)\"><g class=\"a69 i10 leaf node n21 p2 sample\" transform=\"translate(-12 90.8192)\"><path class=\"edge\" d=\"M 0 0 V -90.8192 H 12\" /><rect class=\"sym\" height=\"6\" style=\"fill:green;\" width=\"6\" x=\"-3\" y=\"-3\" /><text class=\"lab\" transform=\"translate(0 11)\">21</text></g><g class=\"a69 i15 leaf node n31 p3 sample\" transform=\"translate(12 90.8192)\"><path class=\"edge\" d=\"M 0 0 V -90.8192 H -12\" /><rect class=\"sym\" height=\"6\" style=\"fill:yellow;\" width=\"6\" x=\"-3\" y=\"-3\" /><text class=\"lab\" transform=\"translate(0 11)\">31</text></g><path class=\"edge\" d=\"M 0 0 V -193.995 H -61.5\" /><g class=\"mut m37 s15 unknown_time\" transform=\"translate(0 -96.9975)\"><line x1=\"0\" x2=\"0\" y1=\"0\" y2=\"96.9975\" /><path class=\"sym\" d=\"M -3,-3 l 6,6 M -3,3 l 6,-6\" /><text class=\"lab rgt\" transform=\"translate(5 0)\">37</text></g><circle class=\"sym\" cx=\"0\" cy=\"0\" r=\"3\" /><text class=\"lab rgt\" transform=\"translate(3 -7.0)\">69</text></g><g class=\"a425 c3 node n350\" transform=\"translate(-61.5 163.546)\"><g class=\"a350 i0 leaf node n0 p0 sample\" transform=\"translate(-33 121.268)\"><path class=\"edge\" d=\"M 0 0 V -121.268 H 33\" /><rect class=\"sym\" height=\"6\" style=\"fill:red;\" width=\"6\" x=\"-3\" y=\"-3\" /><text class=\"lab\" transform=\"translate(0 11)\">0</text></g><g class=\"a350 i1 leaf node n2 p0 sample\" transform=\"translate(-9 121.268)\"><path class=\"edge\" d=\"M 0 0 V -121.268 H 9\" /><rect class=\"sym\" height=\"6\" style=\"fill:red;\" width=\"6\" x=\"-3\" y=\"-3\" /><text class=\"lab\" transform=\"translate(0 11)\">2</text></g><g class=\"a350 c2 node n192\" transform=\"translate(33 43.9579)\"><g class=\"a192 i3 leaf m43 node n7 p0 s20 sample\" transform=\"translate(-18 77.3104)\"><path class=\"edge\" d=\"M 0 0 V -77.3104 H 18\" /><g class=\"mut m43 s20 unknown_time\" transform=\"translate(0 -38.6552)\"><line x1=\"0\" x2=\"0\" y1=\"0\" y2=\"38.6552\" /><path class=\"sym\" d=\"M -3,-3 l 6,6 M -3,3 l 6,-6\" /><text class=\"lab lft\" transform=\"translate(-5 0)\">43</text></g><rect class=\"sym\" height=\"6\" style=\"fill:red;\" width=\"6\" x=\"-3\" y=\"-3\" /><text class=\"lab\" transform=\"translate(0 11)\">7</text></g><g class=\"a192 c2 node n91\" transform=\"translate(18 36.7772)\"><g class=\"a91 i4 leaf node n8 p0 sample\" transform=\"translate(-12 40.5333)\"><path class=\"edge\" d=\"M 0 0 V -40.5333 H 12\" /><rect class=\"sym\" height=\"6\" style=\"fill:red;\" width=\"6\" x=\"-3\" y=\"-3\" /><text class=\"lab\" transform=\"translate(0 11)\">8</text></g><g class=\"a91 i8 leaf node n16 p1 sample\" transform=\"translate(12 40.5333)\"><path class=\"edge\" d=\"M 0 0 V -40.5333 H -12\" /><rect class=\"sym\" height=\"6\" style=\"fill:blue;\" width=\"6\" x=\"-3\" y=\"-3\" /><text class=\"lab\" transform=\"translate(0 11)\">16</text></g><path class=\"edge\" d=\"M 0 0 V -36.7772 H -18\" /><circle class=\"sym\" cx=\"0\" cy=\"0\" r=\"3\" /><text class=\"lab rgt\" transform=\"translate(3 -7.0)\">91</text></g><path class=\"edge\" d=\"M 0 0 V -43.9579 H -33\" /><circle class=\"sym\" cx=\"0\" cy=\"0\" r=\"3\" /><text class=\"lab rgt\" transform=\"translate(3 -7.0)\">192</text></g><path class=\"edge\" d=\"M 0 0 V -163.546 H 61.5\" /><circle class=\"sym\" cx=\"0\" cy=\"0\" r=\"3\" /><text class=\"lab lft\" transform=\"translate(-3 -7.0)\">350</text></g><path class=\"edge\" d=\"M 0 0 V -93.7172 H 174.75\" /><g class=\"mut m40 s17 unknown_time\" transform=\"translate(0 -46.8586)\"><line x1=\"0\" x2=\"0\" y1=\"0\" y2=\"46.8586\" /><path class=\"sym\" d=\"M -3,-3 l 6,6 M -3,3 l 6,-6\" /><text class=\"lab lft\" transform=\"translate(-5 0)\">40</text></g><circle class=\"sym\" cx=\"0\" cy=\"0\" r=\"3\" /><text class=\"lab lft\" transform=\"translate(-3 -7.0)\">425</text></g><g class=\"a612 c2 node n476\" transform=\"translate(54.75 161.302)\"><g class=\"a476 c4 node n417\" transform=\"translate(-60 84.5226)\"><g class=\"a417 i0 leaf node n1 p0 sample\" transform=\"translate(-72 132.707)\"><path class=\"edge\" d=\"M 0 0 V -132.707 H 72\" /><rect class=\"sym\" height=\"6\" style=\"fill:red;\" width=\"6\" x=\"-3\" y=\"-3\" /><text class=\"lab\" transform=\"translate(0 11)\">1</text></g><g class=\"a417 i5 leaf node n10 p1 sample\" transform=\"translate(48 132.707)\"><path class=\"edge\" d=\"M 0 0 V -132.707 H -48\" /><rect class=\"sym\" height=\"6\" style=\"fill:blue;\" width=\"6\" x=\"-3\" y=\"-3\" /><text class=\"lab\" transform=\"translate(0 11)\">10</text></g><g class=\"a417 i6 leaf node n12 p1 sample\" transform=\"translate(72 132.707)\"><path class=\"edge\" d=\"M 0 0 V -132.707 H -72\" /><rect class=\"sym\" height=\"6\" style=\"fill:blue;\" width=\"6\" x=\"-3\" y=\"-3\" /><text class=\"lab\" transform=\"translate(0 11)\">12</text></g><g class=\"a417 c2 node n257\" transform=\"translate(0.0 27.5889)\"><g class=\"a257 i5 leaf node n11 p1 sample\" transform=\"translate(24 105.118)\"><path class=\"edge\" d=\"M 0 0 V -105.118 H -24\" /><rect class=\"sym\" height=\"6\" style=\"fill:blue;\" width=\"6\" x=\"-3\" y=\"-3\" /><text class=\"lab\" transform=\"translate(0 11)\">11</text></g><g class=\"a257 c3 node n182\" transform=\"translate(-24 26.4768)\"><g class=\"a182 i2 leaf node n4 p0 sample\" transform=\"translate(-24 78.6411)\"><path class=\"edge\" d=\"M 0 0 V -78.6411 H 24\" /><rect class=\"sym\" height=\"6\" style=\"fill:red;\" width=\"6\" x=\"-3\" y=\"-3\" /><text class=\"lab\" transform=\"translate(0 11)\">4</text></g><g class=\"a182 i4 leaf node n9 p0 sample\" transform=\"translate(0.0 78.6411)\"><path class=\"edge\" d=\"M 0 0 V -78.6411 H 0.0\" /><rect class=\"sym\" height=\"6\" style=\"fill:red;\" width=\"6\" x=\"-3\" y=\"-3\" /><text class=\"lab\" transform=\"translate(0 11)\">9</text></g><g class=\"a182 i9 leaf m39 node n19 p1 s16 sample\" transform=\"translate(24 78.6411)\"><path class=\"edge\" d=\"M 0 0 V -78.6411 H -24\" /><g class=\"mut m39 s16 unknown_time\" transform=\"translate(0 -39.3206)\"><line x1=\"0\" x2=\"0\" y1=\"0\" y2=\"39.3206\" /><path class=\"sym\" d=\"M -3,-3 l 6,6 M -3,3 l 6,-6\" /><text class=\"lab rgt\" transform=\"translate(5 0)\">39</text></g><rect class=\"sym\" height=\"6\" style=\"fill:blue;\" width=\"6\" x=\"-3\" y=\"-3\" /><text class=\"lab\" transform=\"translate(0 11)\">19</text></g><path class=\"edge\" d=\"M 0 0 V -26.4768 H 24\" /><circle class=\"sym\" cx=\"0\" cy=\"0\" r=\"3\" /><text class=\"lab lft\" transform=\"translate(-3 -7.0)\">182</text></g><path class=\"edge\" d=\"M 0 0 V -27.5889 H 0.0\" /><circle class=\"sym\" cx=\"0\" cy=\"0\" r=\"3\" /><text class=\"lab rgt\" transform=\"translate(3 -7.0)\">257</text></g><path class=\"edge\" d=\"M 0 0 V -84.5226 H 60\" /><circle class=\"sym\" cx=\"0\" cy=\"0\" r=\"3\" /><text class=\"lab lft\" transform=\"translate(-3 -7.0)\">417</text></g><g class=\"a476 c3 node n420\" transform=\"translate(60 111.832)\"><g class=\"a420 i3 leaf node n6 p0 sample\" transform=\"translate(-24 105.398)\"><path class=\"edge\" d=\"M 0 0 V -105.398 H 24\" /><rect class=\"sym\" height=\"6\" style=\"fill:red;\" width=\"6\" x=\"-3\" y=\"-3\" /><text class=\"lab\" transform=\"translate(0 11)\">6</text></g><g class=\"a420 i6 leaf m38 node n13 p1 s15 sample\" transform=\"translate(0.0 105.398)\"><path class=\"edge\" d=\"M 0 0 V -105.398 H 0.0\" /><g class=\"mut m38 s15 unknown_time\" transform=\"translate(0 -52.6989)\"><line x1=\"0\" x2=\"0\" y1=\"0\" y2=\"52.6989\" /><path class=\"sym\" d=\"M -3,-3 l 6,6 M -3,3 l 6,-6\" /><text class=\"lab rgt\" transform=\"translate(5 0)\">38</text></g><rect class=\"sym\" height=\"6\" style=\"fill:blue;\" width=\"6\" x=\"-3\" y=\"-3\" /><text class=\"lab\" transform=\"translate(0 11)\">13</text></g><g class=\"a420 i8 leaf node n17 p1 sample\" transform=\"translate(24 105.398)\"><path class=\"edge\" d=\"M 0 0 V -105.398 H -24\" /><rect class=\"sym\" height=\"6\" style=\"fill:blue;\" width=\"6\" x=\"-3\" y=\"-3\" /><text class=\"lab\" transform=\"translate(0 11)\">17</text></g><path class=\"edge\" d=\"M 0 0 V -111.832 H -60\" /><circle class=\"sym\" cx=\"0\" cy=\"0\" r=\"3\" /><text class=\"lab rgt\" transform=\"translate(3 -7.0)\">420</text></g><path class=\"edge\" d=\"M 0 0 V -161.302 H -54.75\" /><circle class=\"sym\" cx=\"0\" cy=\"0\" r=\"3\" /><text class=\"lab rgt\" transform=\"translate(3 -7.0)\">476</text></g><g class=\"a612 c2 node n602\" transform=\"translate(174.75 226.969)\"><g class=\"a602 i1 leaf node n3 p0 sample\" transform=\"translate(-12 151.562)\"><path class=\"edge\" d=\"M 0 0 V -151.562 H 12\" /><rect class=\"sym\" height=\"6\" style=\"fill:red;\" width=\"6\" x=\"-3\" y=\"-3\" /><text class=\"lab\" transform=\"translate(0 11)\">3</text></g><g class=\"a602 i2 leaf node n5 p0 sample\" transform=\"translate(12 151.562)\"><path class=\"edge\" d=\"M 0 0 V -151.562 H -12\" /><rect class=\"sym\" height=\"6\" style=\"fill:red;\" width=\"6\" x=\"-3\" y=\"-3\" /><text class=\"lab\" transform=\"translate(0 11)\">5</text></g><path class=\"edge\" d=\"M 0 0 V -226.969 H -174.75\" /><circle class=\"sym\" cx=\"0\" cy=\"0\" r=\"3\" /><text class=\"lab rgt\" transform=\"translate(3 -7.0)\">602</text></g><path class=\"edge\" d=\"M 0 0 V -262.869 H 273.375\" /><circle class=\"sym\" cx=\"0\" cy=\"0\" r=\"3\" /><text class=\"lab lft\" transform=\"translate(-3 -7.0)\">612</text></g><g class=\"a697 c2 node n650\" transform=\"translate(273.375 67.0514)\"><g class=\"a650 c6 m36 node n614 s14\" transform=\"translate(-120 192.247)\"><g class=\"a614 i7 leaf node n14 p1 sample\" transform=\"translate(-216 382.102)\"><path class=\"edge\" d=\"M 0 0 V -382.102 H 216\" /><rect class=\"sym\" height=\"6\" style=\"fill:blue;\" width=\"6\" x=\"-3\" y=\"-3\" /><text class=\"lab\" transform=\"translate(0 11)\">14</text></g><g class=\"a614 i11 leaf node n22 p2 sample\" transform=\"translate(144 382.102)\"><path class=\"edge\" d=\"M 0 0 V -382.102 H -144\" /><rect class=\"sym\" height=\"6\" style=\"fill:green;\" width=\"6\" x=\"-3\" y=\"-3\" /><text class=\"lab\" transform=\"translate(0 11)\">22</text></g><g class=\"a614 i13 leaf node n27 p2 sample\" transform=\"translate(168 382.102)\"><path class=\"edge\" d=\"M 0 0 V -382.102 H -168\" /><rect class=\"sym\" height=\"6\" style=\"fill:green;\" width=\"6\" x=\"-3\" y=\"-3\" /><text class=\"lab\" transform=\"translate(0 11)\">27</text></g><g class=\"a614 i16 leaf node n32 p3 sample\" transform=\"translate(192 382.102)\"><path class=\"edge\" d=\"M 0 0 V -382.102 H -192\" /><rect class=\"sym\" height=\"6\" style=\"fill:yellow;\" width=\"6\" x=\"-3\" y=\"-3\" /><text class=\"lab\" transform=\"translate(0 11)\">32</text></g><g class=\"a614 i19 leaf node n38 p3 sample\" transform=\"translate(216 382.102)\"><path class=\"edge\" d=\"M 0 0 V -382.102 H -216\" /><rect class=\"sym\" height=\"6\" style=\"fill:yellow;\" width=\"6\" x=\"-3\" y=\"-3\" /><text class=\"lab\" transform=\"translate(0 11)\">38</text></g><g class=\"a614 c3 node n589\" transform=\"translate(-4.125 47.4741)\"><g class=\"a589 i14 leaf node n29 p2 sample\" transform=\"translate(124.125 334.628)\"><path class=\"edge\" d=\"M 0 0 V -334.628 H -124.125\" /><rect class=\"sym\" height=\"6\" style=\"fill:green;\" width=\"6\" x=\"-3\" y=\"-3\" /><text class=\"lab\" transform=\"translate(0 11)\">29</text></g><g class=\"a589 c3 node n225\" transform=\"translate(76.125 259.319)\"><g class=\"a225 i14 leaf node n28 p2 sample\" transform=\"translate(-24 75.3087)\"><path class=\"edge\" d=\"M 0 0 V -75.3087 H 24\" /><rect class=\"sym\" height=\"6\" style=\"fill:green;\" width=\"6\" x=\"-3\" y=\"-3\" /><text class=\"lab\" transform=\"translate(0 11)\">28</text></g><g class=\"a225 i16 leaf node n33 p3 sample\" transform=\"translate(0.0 75.3087)\"><path class=\"edge\" d=\"M 0 0 V -75.3087 H 0.0\" /><rect class=\"sym\" height=\"6\" style=\"fill:yellow;\" width=\"6\" x=\"-3\" y=\"-3\" /><text class=\"lab\" transform=\"translate(0 11)\">33</text></g><g class=\"a225 i17 leaf node n35 p3 sample\" transform=\"translate(24 75.3087)\"><path class=\"edge\" d=\"M 0 0 V -75.3087 H -24\" /><rect class=\"sym\" height=\"6\" style=\"fill:yellow;\" width=\"6\" x=\"-3\" y=\"-3\" /><text class=\"lab\" transform=\"translate(0 11)\">35</text></g><path class=\"edge\" d=\"M 0 0 V -259.319 H -76.125\" /><circle class=\"sym\" cx=\"0\" cy=\"0\" r=\"3\" /><text class=\"lab rgt\" transform=\"translate(3 -7.0)\">225</text></g><g class=\"a589 c2 node n538\" transform=\"translate(-124.125 47.0085)\"><g class=\"a538 c2 node n327\" transform=\"translate(-51.75 108.068)\"><g class=\"a327 i10 leaf node n20 p2 sample\" transform=\"translate(-12 179.552)\"><path class=\"edge\" d=\"M 0 0 V -179.552 H 12\" /><rect class=\"sym\" height=\"6\" style=\"fill:green;\" width=\"6\" x=\"-3\" y=\"-3\" /><text class=\"lab\" transform=\"translate(0 11)\">20</text></g><g class=\"a327 i19 leaf m41 node n39 p3 s18 sample\" transform=\"translate(12 179.552)\"><path class=\"edge\" d=\"M 0 0 V -179.552 H -12\" /><g class=\"mut m41 s18 unknown_time\" transform=\"translate(0 -89.7758)\"><line x1=\"0\" x2=\"0\" y1=\"0\" y2=\"89.7758\" /><path class=\"sym\" d=\"M -3,-3 l 6,6 M -3,3 l 6,-6\" /><text class=\"lab rgt\" transform=\"translate(5 0)\">41</text></g><rect class=\"sym\" height=\"6\" style=\"fill:yellow;\" width=\"6\" x=\"-3\" y=\"-3\" /><text class=\"lab\" transform=\"translate(0 11)\">39</text></g><path class=\"edge\" d=\"M 0 0 V -108.068 H 51.75\" /><circle class=\"sym\" cx=\"0\" cy=\"0\" r=\"3\" /><text class=\"lab lft\" transform=\"translate(-3 -7.0)\">327</text></g><g class=\"a538 c3 node n486\" transform=\"translate(51.75 13.0084)\"><g class=\"a486 c2 node n136\" transform=\"translate(-55.5 159.274)\"><g class=\"a136 i11 leaf node n23 p2 sample\" transform=\"translate(-12 115.337)\"><path class=\"edge\" d=\"M 0 0 V -115.337 H 12\" /><rect class=\"sym\" height=\"6\" style=\"fill:green;\" width=\"6\" x=\"-3\" y=\"-3\" /><text class=\"lab\" transform=\"translate(0 11)\">23</text></g><g class=\"a136 i12 leaf node n24 p2 sample\" transform=\"translate(12 115.337)\"><path class=\"edge\" d=\"M 0 0 V -115.337 H -12\" /><rect class=\"sym\" height=\"6\" style=\"fill:green;\" width=\"6\" x=\"-3\" y=\"-3\" /><text class=\"lab\" transform=\"translate(0 11)\">24</text></g><path class=\"edge\" d=\"M 0 0 V -159.274 H 55.5\" /><circle class=\"sym\" cx=\"0\" cy=\"0\" r=\"3\" /><text class=\"lab lft\" transform=\"translate(-3 -7.0)\">136</text></g><g class=\"a486 c2 node n461\" transform=\"translate(55.5 13.8356)\"><g class=\"a461 c2 node n319\" transform=\"translate(33 212.054)\"><g class=\"a319 i17 leaf node n34 p3 sample\" transform=\"translate(-12 48.7218)\"><path class=\"edge\" d=\"M 0 0 V -48.7218 H 12\" /><rect class=\"sym\" height=\"6\" style=\"fill:yellow;\" width=\"6\" x=\"-3\" y=\"-3\" /><text class=\"lab\" transform=\"translate(0 11)\">34</text></g><g class=\"a319 i18 leaf node n37 p3 sample\" transform=\"translate(12 48.7218)\"><path class=\"edge\" d=\"M 0 0 V -48.7218 H -12\" /><rect class=\"sym\" height=\"6\" style=\"fill:yellow;\" width=\"6\" x=\"-3\" y=\"-3\" /><text class=\"lab\" transform=\"translate(0 11)\">37</text></g><path class=\"edge\" d=\"M 0 0 V -212.054 H -33\" /><circle class=\"sym\" cx=\"0\" cy=\"0\" r=\"3\" /><text class=\"lab rgt\" transform=\"translate(3 -7.0)\">319</text></g><g class=\"a461 c2 node n397\" transform=\"translate(-33 95.7811)\"><g class=\"a397 i13 leaf node n26 p2 sample\" transform=\"translate(-18 164.994)\"><path class=\"edge\" d=\"M 0 0 V -164.994 H 18\" /><rect class=\"sym\" height=\"6\" style=\"fill:green;\" width=\"6\" x=\"-3\" y=\"-3\" /><text class=\"lab\" transform=\"translate(0 11)\">26</text></g><g class=\"a397 c2 node n260\" transform=\"translate(18 28.5658)\"><g class=\"a260 i15 leaf node n30 p3 sample\" transform=\"translate(-12 136.428)\"><path class=\"edge\" d=\"M 0 0 V -136.428 H 12\" /><rect class=\"sym\" height=\"6\" style=\"fill:yellow;\" width=\"6\" x=\"-3\" y=\"-3\" /><text class=\"lab\" transform=\"translate(0 11)\">30</text></g><g class=\"a260 i18 leaf node n36 p3 sample\" transform=\"translate(12 136.428)\"><path class=\"edge\" d=\"M 0 0 V -136.428 H -12\" /><rect class=\"sym\" height=\"6\" style=\"fill:yellow;\" width=\"6\" x=\"-3\" y=\"-3\" /><text class=\"lab\" transform=\"translate(0 11)\">36</text></g><path class=\"edge\" d=\"M 0 0 V -28.5658 H -18\" /><circle class=\"sym\" cx=\"0\" cy=\"0\" r=\"3\" /><text class=\"lab rgt\" transform=\"translate(3 -7.0)\">260</text></g><path class=\"edge\" d=\"M 0 0 V -95.7811 H 33\" /><circle class=\"sym\" cx=\"0\" cy=\"0\" r=\"3\" /><text class=\"lab lft\" transform=\"translate(-3 -7.0)\">397</text></g><path class=\"edge\" d=\"M 0 0 V -13.8356 H -55.5\" /><circle class=\"sym\" cx=\"0\" cy=\"0\" r=\"3\" /><text class=\"lab rgt\" transform=\"translate(3 -7.0)\">461</text></g><g class=\"a486 i12 leaf node n25 p2 sample\" transform=\"translate(-19.5 274.611)\"><path class=\"edge\" d=\"M 0 0 V -274.611 H 19.5\" /><rect class=\"sym\" height=\"6\" style=\"fill:green;\" width=\"6\" x=\"-3\" y=\"-3\" /><text class=\"lab\" transform=\"translate(0 11)\">25</text></g><path class=\"edge\" d=\"M 0 0 V -13.0084 H -51.75\" /><circle class=\"sym\" cx=\"0\" cy=\"0\" r=\"3\" /><text class=\"lab rgt\" transform=\"translate(3 -7.0)\">486</text></g><path class=\"edge\" d=\"M 0 0 V -47.0085 H 124.125\" /><circle class=\"sym\" cx=\"0\" cy=\"0\" r=\"3\" /><text class=\"lab lft\" transform=\"translate(-3 -7.0)\">538</text></g><path class=\"edge\" d=\"M 0 0 V -47.4741 H 4.125\" /><circle class=\"sym\" cx=\"0\" cy=\"0\" r=\"3\" /><text class=\"lab rgt\" transform=\"translate(3 -7.0)\">589</text></g><path class=\"edge\" d=\"M 0 0 V -192.247 H 120\" /><g class=\"mut m36 s14 unknown_time\" transform=\"translate(0 -96.1233)\"><line x1=\"0\" x2=\"0\" y1=\"0\" y2=\"96.1233\" /><path class=\"sym\" d=\"M -3,-3 l 6,6 M -3,3 l 6,-6\" /><text class=\"lab lft\" transform=\"translate(-5 0)\">36</text></g><circle class=\"sym\" cx=\"0\" cy=\"0\" r=\"3\" /><text class=\"lab lft\" transform=\"translate(-3 -7.0)\">614</text></g><g class=\"a650 i7 leaf m35 node n15 p1 s14 sample\" transform=\"translate(120 574.349)\"><path class=\"edge\" d=\"M 0 0 V -574.349 H -120\" /><g class=\"mut m35 s14 unknown_time\" transform=\"translate(0 -287.174)\"><line x1=\"0\" x2=\"0\" y1=\"0\" y2=\"287.174\" /><path class=\"sym\" d=\"M -3,-3 l 6,6 M -3,3 l 6,-6\" /><text class=\"lab rgt\" transform=\"translate(5 0)\">35</text></g><rect class=\"sym\" height=\"6\" style=\"fill:blue;\" width=\"6\" x=\"-3\" y=\"-3\" /><text class=\"lab\" transform=\"translate(0 11)\">15</text></g><path class=\"edge\" d=\"M 0 0 V -67.0514 H -273.375\" /><circle class=\"sym\" cx=\"0\" cy=\"0\" r=\"3\" /><text class=\"lab rgt\" transform=\"translate(3 -7.0)\">650</text></g><circle class=\"sym\" cx=\"0\" cy=\"0\" r=\"3\" /><text class=\"lab\" transform=\"translate(0 -11)\">697</text></g></g></g></svg>"
      ],
      "text/plain": [
       "'<svg baseProfile=\"full\" height=\"700\" version=\"1.1\" width=\"1000\" xmlns=\"http://www.w3.org/2000/svg\" xmlns:ev=\"http://www.w3.org/2001/xml-events\" xmlns:xlink=\"http://www.w3.org/1999/xlink\"><defs><style type=\"text/css\"><![CDATA[.background path {fill: #808080; fill-opacity: 0}.background path:nth-child(odd) {fill-opacity: .1}.axes {font-size: 14px}.x-axis .tick .lab {font-weight: bold; dominant-baseline: hanging}.axes, .tree {font-size: 14px; text-anchor: middle}.axes line, .edge {stroke: black; fill: none}.axes .ax-skip {stroke-dasharray: 4}.y-axis .grid {stroke: #FAFAFA}.node > .sym {fill: black; stroke: none}.site > .sym {stroke: black}.mut text {fill: red; font-style: italic}.mut.extra text {fill: hotpink}.mut line {fill: none; stroke: none}.mut .sym {fill: none; stroke: red}.mut.extra .sym {stroke: hotpink}.node .mut .sym {stroke-width: 1.5px}.tree text, .tree-sequence text {dominant-baseline: central}.plotbox .lab.lft {text-anchor: end}.plotbox .lab.rgt {text-anchor: start}]]></style></defs><g class=\"tree t2\"><g class=\"plotbox\"><g class=\"c2 node n697 root\" transform=\"translate(574.625 26.8)\"><g class=\"a697 c3 node n612\" transform=\"translate(-273.375 262.869)\"><g class=\"a612 c3 m40 node n425 s17\" transform=\"translate(-174.75 93.7172)\"><g class=\"a425 i9 leaf m42 node n18 p1 s19 sample\" transform=\"translate(25.5 284.814)\"><path class=\"edge\" d=\"M 0 0 V -284.814 H -25.5\" /><g class=\"mut m42 s19 unknown_time\" transform=\"translate(0 -142.407)\"><line x1=\"0\" x2=\"0\" y1=\"0\" y2=\"142.407\" /><path class=\"sym\" d=\"M -3,-3 l 6,6 M -3,3 l 6,-6\" /><text class=\"lab rgt\" transform=\"translate(5 0)\">42</text></g><rect class=\"sym\" height=\"6\" style=\"fill:blue;\" width=\"6\" x=\"-3\" y=\"-3\" /><text class=\"lab\" transform=\"translate(0 11)\">18</text></g><g class=\"a425 c2 m37 node n69 s15\" transform=\"translate(61.5 193.995)\"><g class=\"a69 i10 leaf node n21 p2 sample\" transform=\"translate(-12 90.8192)\"><path class=\"edge\" d=\"M 0 0 V -90.8192 H 12\" /><rect class=\"sym\" height=\"6\" style=\"fill:green;\" width=\"6\" x=\"-3\" y=\"-3\" /><text class=\"lab\" transform=\"translate(0 11)\">21</text></g><g class=\"a69 i15 leaf node n31 p3 sample\" transform=\"translate(12 90.8192)\"><path class=\"edge\" d=\"M 0 0 V -90.8192 H -12\" /><rect class=\"sym\" height=\"6\" style=\"fill:yellow;\" width=\"6\" x=\"-3\" y=\"-3\" /><text class=\"lab\" transform=\"translate(0 11)\">31</text></g><path class=\"edge\" d=\"M 0 0 V -193.995 H -61.5\" /><g class=\"mut m37 s15 unknown_time\" transform=\"translate(0 -96.9975)\"><line x1=\"0\" x2=\"0\" y1=\"0\" y2=\"96.9975\" /><path class=\"sym\" d=\"M -3,-3 l 6,6 M -3,3 l 6,-6\" /><text class=\"lab rgt\" transform=\"translate(5 0)\">37</text></g><circle class=\"sym\" cx=\"0\" cy=\"0\" r=\"3\" /><text class=\"lab rgt\" transform=\"translate(3 -7.0)\">69</text></g><g class=\"a425 c3 node n350\" transform=\"translate(-61.5 163.546)\"><g class=\"a350 i0 leaf node n0 p0 sample\" transform=\"translate(-33 121.268)\"><path class=\"edge\" d=\"M 0 0 V -121.268 H 33\" /><rect class=\"sym\" height=\"6\" style=\"fill:red;\" width=\"6\" x=\"-3\" y=\"-3\" /><text class=\"lab\" transform=\"translate(0 11)\">0</text></g><g class=\"a350 i1 leaf node n2 p0 sample\" transform=\"translate(-9 121.268)\"><path class=\"edge\" d=\"M 0 0 V -121.268 H 9\" /><rect class=\"sym\" height=\"6\" style=\"fill:red;\" width=\"6\" x=\"-3\" y=\"-3\" /><text class=\"lab\" transform=\"translate(0 11)\">2</text></g><g class=\"a350 c2 node n192\" transform=\"translate(33 43.9579)\"><g class=\"a192 i3 leaf m43 node n7 p0 s20 sample\" transform=\"translate(-18 77.3104)\"><path class=\"edge\" d=\"M 0 0 V -77.3104 H 18\" /><g class=\"mut m43 s20 unknown_time\" transform=\"translate(0 -38.6552)\"><line x1=\"0\" x2=\"0\" y1=\"0\" y2=\"38.6552\" /><path class=\"sym\" d=\"M -3,-3 l 6,6 M -3,3 l 6,-6\" /><text class=\"lab lft\" transform=\"translate(-5 0)\">43</text></g><rect class=\"sym\" height=\"6\" style=\"fill:red;\" width=\"6\" x=\"-3\" y=\"-3\" /><text class=\"lab\" transform=\"translate(0 11)\">7</text></g><g class=\"a192 c2 node n91\" transform=\"translate(18 36.7772)\"><g class=\"a91 i4 leaf node n8 p0 sample\" transform=\"translate(-12 40.5333)\"><path class=\"edge\" d=\"M 0 0 V -40.5333 H 12\" /><rect class=\"sym\" height=\"6\" style=\"fill:red;\" width=\"6\" x=\"-3\" y=\"-3\" /><text class=\"lab\" transform=\"translate(0 11)\">8</text></g><g class=\"a91 i8 leaf node n16 p1 sample\" transform=\"translate(12 40.5333)\"><path class=\"edge\" d=\"M 0 0 V -40.5333 H -12\" /><rect class=\"sym\" height=\"6\" style=\"fill:blue;\" width=\"6\" x=\"-3\" y=\"-3\" /><text class=\"lab\" transform=\"translate(0 11)\">16</text></g><path class=\"edge\" d=\"M 0 0 V -36.7772 H -18\" /><circle class=\"sym\" cx=\"0\" cy=\"0\" r=\"3\" /><text class=\"lab rgt\" transform=\"translate(3 -7.0)\">91</text></g><path class=\"edge\" d=\"M 0 0 V -43.9579 H -33\" /><circle class=\"sym\" cx=\"0\" cy=\"0\" r=\"3\" /><text class=\"lab rgt\" transform=\"translate(3 -7.0)\">192</text></g><path class=\"edge\" d=\"M 0 0 V -163.546 H 61.5\" /><circle class=\"sym\" cx=\"0\" cy=\"0\" r=\"3\" /><text class=\"lab lft\" transform=\"translate(-3 -7.0)\">350</text></g><path class=\"edge\" d=\"M 0 0 V -93.7172 H 174.75\" /><g class=\"mut m40 s17 unknown_time\" transform=\"translate(0 -46.8586)\"><line x1=\"0\" x2=\"0\" y1=\"0\" y2=\"46.8586\" /><path class=\"sym\" d=\"M -3,-3 l 6,6 M -3,3 l 6,-6\" /><text class=\"lab lft\" transform=\"translate(-5 0)\">40</text></g><circle class=\"sym\" cx=\"0\" cy=\"0\" r=\"3\" /><text class=\"lab lft\" transform=\"translate(-3 -7.0)\">425</text></g><g class=\"a612 c2 node n476\" transform=\"translate(54.75 161.302)\"><g class=\"a476 c4 node n417\" transform=\"translate(-60 84.5226)\"><g class=\"a417 i0 leaf node n1 p0 sample\" transform=\"translate(-72 132.707)\"><path class=\"edge\" d=\"M 0 0 V -132.707 H 72\" /><rect class=\"sym\" height=\"6\" style=\"fill:red;\" width=\"6\" x=\"-3\" y=\"-3\" /><text class=\"lab\" transform=\"translate(0 11)\">1</text></g><g class=\"a417 i5 leaf node n10 p1 sample\" transform=\"translate(48 132.707)\"><path class=\"edge\" d=\"M 0 0 V -132.707 H -48\" /><rect class=\"sym\" height=\"6\" style=\"fill:blue;\" width=\"6\" x=\"-3\" y=\"-3\" /><text class=\"lab\" transform=\"translate(0 11)\">10</text></g><g class=\"a417 i6 leaf node n12 p1 sample\" transform=\"translate(72 132.707)\"><path class=\"edge\" d=\"M 0 0 V -132.707 H -72\" /><rect class=\"sym\" height=\"6\" style=\"fill:blue;\" width=\"6\" x=\"-3\" y=\"-3\" /><text class=\"lab\" transform=\"translate(0 11)\">12</text></g><g class=\"a417 c2 node n257\" transform=\"translate(0.0 27.5889)\"><g class=\"a257 i5 leaf node n11 p1 sample\" transform=\"translate(24 105.118)\"><path class=\"edge\" d=\"M 0 0 V -105.118 H -24\" /><rect class=\"sym\" height=\"6\" style=\"fill:blue;\" width=\"6\" x=\"-3\" y=\"-3\" /><text class=\"lab\" transform=\"translate(0 11)\">11</text></g><g class=\"a257 c3 node n182\" transform=\"translate(-24 26.4768)\"><g class=\"a182 i2 leaf node n4 p0 sample\" transform=\"translate(-24 78.6411)\"><path class=\"edge\" d=\"M 0 0 V -78.6411 H 24\" /><rect class=\"sym\" height=\"6\" style=\"fill:red;\" width=\"6\" x=\"-3\" y=\"-3\" /><text class=\"lab\" transform=\"translate(0 11)\">4</text></g><g class=\"a182 i4 leaf node n9 p0 sample\" transform=\"translate(0.0 78.6411)\"><path class=\"edge\" d=\"M 0 0 V -78.6411 H 0.0\" /><rect class=\"sym\" height=\"6\" style=\"fill:red;\" width=\"6\" x=\"-3\" y=\"-3\" /><text class=\"lab\" transform=\"translate(0 11)\">9</text></g><g class=\"a182 i9 leaf m39 node n19 p1 s16 sample\" transform=\"translate(24 78.6411)\"><path class=\"edge\" d=\"M 0 0 V -78.6411 H -24\" /><g class=\"mut m39 s16 unknown_time\" transform=\"translate(0 -39.3206)\"><line x1=\"0\" x2=\"0\" y1=\"0\" y2=\"39.3206\" /><path class=\"sym\" d=\"M -3,-3 l 6,6 M -3,3 l 6,-6\" /><text class=\"lab rgt\" transform=\"translate(5 0)\">39</text></g><rect class=\"sym\" height=\"6\" style=\"fill:blue;\" width=\"6\" x=\"-3\" y=\"-3\" /><text class=\"lab\" transform=\"translate(0 11)\">19</text></g><path class=\"edge\" d=\"M 0 0 V -26.4768 H 24\" /><circle class=\"sym\" cx=\"0\" cy=\"0\" r=\"3\" /><text class=\"lab lft\" transform=\"translate(-3 -7.0)\">182</text></g><path class=\"edge\" d=\"M 0 0 V -27.5889 H 0.0\" /><circle class=\"sym\" cx=\"0\" cy=\"0\" r=\"3\" /><text class=\"lab rgt\" transform=\"translate(3 -7.0)\">257</text></g><path class=\"edge\" d=\"M 0 0 V -84.5226 H 60\" /><circle class=\"sym\" cx=\"0\" cy=\"0\" r=\"3\" /><text class=\"lab lft\" transform=\"translate(-3 -7.0)\">417</text></g><g class=\"a476 c3 node n420\" transform=\"translate(60 111.832)\"><g class=\"a420 i3 leaf node n6 p0 sample\" transform=\"translate(-24 105.398)\"><path class=\"edge\" d=\"M 0 0 V -105.398 H 24\" /><rect class=\"sym\" height=\"6\" style=\"fill:red;\" width=\"6\" x=\"-3\" y=\"-3\" /><text class=\"lab\" transform=\"translate(0 11)\">6</text></g><g class=\"a420 i6 leaf m38 node n13 p1 s15 sample\" transform=\"translate(0.0 105.398)\"><path class=\"edge\" d=\"M 0 0 V -105.398 H 0.0\" /><g class=\"mut m38 s15 unknown_time\" transform=\"translate(0 -52.6989)\"><line x1=\"0\" x2=\"0\" y1=\"0\" y2=\"52.6989\" /><path class=\"sym\" d=\"M -3,-3 l 6,6 M -3,3 l 6,-6\" /><text class=\"lab rgt\" transform=\"translate(5 0)\">38</text></g><rect class=\"sym\" height=\"6\" style=\"fill:blue;\" width=\"6\" x=\"-3\" y=\"-3\" /><text class=\"lab\" transform=\"translate(0 11)\">13</text></g><g class=\"a420 i8 leaf node n17 p1 sample\" transform=\"translate(24 105.398)\"><path class=\"edge\" d=\"M 0 0 V -105.398 H -24\" /><rect class=\"sym\" height=\"6\" style=\"fill:blue;\" width=\"6\" x=\"-3\" y=\"-3\" /><text class=\"lab\" transform=\"translate(0 11)\">17</text></g><path class=\"edge\" d=\"M 0 0 V -111.832 H -60\" /><circle class=\"sym\" cx=\"0\" cy=\"0\" r=\"3\" /><text class=\"lab rgt\" transform=\"translate(3 -7.0)\">420</text></g><path class=\"edge\" d=\"M 0 0 V -161.302 H -54.75\" /><circle class=\"sym\" cx=\"0\" cy=\"0\" r=\"3\" /><text class=\"lab rgt\" transform=\"translate(3 -7.0)\">476</text></g><g class=\"a612 c2 node n602\" transform=\"translate(174.75 226.969)\"><g class=\"a602 i1 leaf node n3 p0 sample\" transform=\"translate(-12 151.562)\"><path class=\"edge\" d=\"M 0 0 V -151.562 H 12\" /><rect class=\"sym\" height=\"6\" style=\"fill:red;\" width=\"6\" x=\"-3\" y=\"-3\" /><text class=\"lab\" transform=\"translate(0 11)\">3</text></g><g class=\"a602 i2 leaf node n5 p0 sample\" transform=\"translate(12 151.562)\"><path class=\"edge\" d=\"M 0 0 V -151.562 H -12\" /><rect class=\"sym\" height=\"6\" style=\"fill:red;\" width=\"6\" x=\"-3\" y=\"-3\" /><text class=\"lab\" transform=\"translate(0 11)\">5</text></g><path class=\"edge\" d=\"M 0 0 V -226.969 H -174.75\" /><circle class=\"sym\" cx=\"0\" cy=\"0\" r=\"3\" /><text class=\"lab rgt\" transform=\"translate(3 -7.0)\">602</text></g><path class=\"edge\" d=\"M 0 0 V -262.869 H 273.375\" /><circle class=\"sym\" cx=\"0\" cy=\"0\" r=\"3\" /><text class=\"lab lft\" transform=\"translate(-3 -7.0)\">612</text></g><g class=\"a697 c2 node n650\" transform=\"translate(273.375 67.0514)\"><g class=\"a650 c6 m36 node n614 s14\" transform=\"translate(-120 192.247)\"><g class=\"a614 i7 leaf node n14 p1 sample\" transform=\"translate(-216 382.102)\"><path class=\"edge\" d=\"M 0 0 V -382.102 H 216\" /><rect class=\"sym\" height=\"6\" style=\"fill:blue;\" width=\"6\" x=\"-3\" y=\"-3\" /><text class=\"lab\" transform=\"translate(0 11)\">14</text></g><g class=\"a614 i11 leaf node n22 p2 sample\" transform=\"translate(144 382.102)\"><path class=\"edge\" d=\"M 0 0 V -382.102 H -144\" /><rect class=\"sym\" height=\"6\" style=\"fill:green;\" width=\"6\" x=\"-3\" y=\"-3\" /><text class=\"lab\" transform=\"translate(0 11)\">22</text></g><g class=\"a614 i13 leaf node n27 p2 sample\" transform=\"translate(168 382.102)\"><path class=\"edge\" d=\"M 0 0 V -382.102 H -168\" /><rect class=\"sym\" height=\"6\" style=\"fill:green;\" width=\"6\" x=\"-3\" y=\"-3\" /><text class=\"lab\" transform=\"translate(0 11)\">27</text></g><g class=\"a614 i16 leaf node n32 p3 sample\" transform=\"translate(192 382.102)\"><path class=\"edge\" d=\"M 0 0 V -382.102 H -192\" /><rect class=\"sym\" height=\"6\" style=\"fill:yellow;\" width=\"6\" x=\"-3\" y=\"-3\" /><text class=\"lab\" transform=\"translate(0 11)\">32</text></g><g class=\"a614 i19 leaf node n38 p3 sample\" transform=\"translate(216 382.102)\"><path class=\"edge\" d=\"M 0 0 V -382.102 H -216\" /><rect class=\"sym\" height=\"6\" style=\"fill:yellow;\" width=\"6\" x=\"-3\" y=\"-3\" /><text class=\"lab\" transform=\"translate(0 11)\">38</text></g><g class=\"a614 c3 node n589\" transform=\"translate(-4.125 47.4741)\"><g class=\"a589 i14 leaf node n29 p2 sample\" transform=\"translate(124.125 334.628)\"><path class=\"edge\" d=\"M 0 0 V -334.628 H -124.125\" /><rect class=\"sym\" height=\"6\" style=\"fill:green;\" width=\"6\" x=\"-3\" y=\"-3\" /><text class=\"lab\" transform=\"translate(0 11)\">29</text></g><g class=\"a589 c3 node n225\" transform=\"translate(76.125 259.319)\"><g class=\"a225 i14 leaf node n28 p2 sample\" transform=\"translate(-24 75.3087)\"><path class=\"edge\" d=\"M 0 0 V -75.3087 H 24\" /><rect class=\"sym\" height=\"6\" style=\"fill:green;\" width=\"6\" x=\"-3\" y=\"-3\" /><text class=\"lab\" transform=\"translate(0 11)\">28</text></g><g class=\"a225 i16 leaf node n33 p3 sample\" transform=\"translate(0.0 75.3087)\"><path class=\"edge\" d=\"M 0 0 V -75.3087 H 0.0\" /><rect class=\"sym\" height=\"6\" style=\"fill:yellow;\" width=\"6\" x=\"-3\" y=\"-3\" /><text class=\"lab\" transform=\"translate(0 11)\">33</text></g><g class=\"a225 i17 leaf node n35 p3 sample\" transform=\"translate(24 75.3087)\"><path class=\"edge\" d=\"M 0 0 V -75.3087 H -24\" /><rect class=\"sym\" height=\"6\" style=\"fill:yellow;\" width=\"6\" x=\"-3\" y=\"-3\" /><text class=\"lab\" transform=\"translate(0 11)\">35</text></g><path class=\"edge\" d=\"M 0 0 V -259.319 H -76.125\" /><circle class=\"sym\" cx=\"0\" cy=\"0\" r=\"3\" /><text class=\"lab rgt\" transform=\"translate(3 -7.0)\">225</text></g><g class=\"a589 c2 node n538\" transform=\"translate(-124.125 47.0085)\"><g class=\"a538 c2 node n327\" transform=\"translate(-51.75 108.068)\"><g class=\"a327 i10 leaf node n20 p2 sample\" transform=\"translate(-12 179.552)\"><path class=\"edge\" d=\"M 0 0 V -179.552 H 12\" /><rect class=\"sym\" height=\"6\" style=\"fill:green;\" width=\"6\" x=\"-3\" y=\"-3\" /><text class=\"lab\" transform=\"translate(0 11)\">20</text></g><g class=\"a327 i19 leaf m41 node n39 p3 s18 sample\" transform=\"translate(12 179.552)\"><path class=\"edge\" d=\"M 0 0 V -179.552 H -12\" /><g class=\"mut m41 s18 unknown_time\" transform=\"translate(0 -89.7758)\"><line x1=\"0\" x2=\"0\" y1=\"0\" y2=\"89.7758\" /><path class=\"sym\" d=\"M -3,-3 l 6,6 M -3,3 l 6,-6\" /><text class=\"lab rgt\" transform=\"translate(5 0)\">41</text></g><rect class=\"sym\" height=\"6\" style=\"fill:yellow;\" width=\"6\" x=\"-3\" y=\"-3\" /><text class=\"lab\" transform=\"translate(0 11)\">39</text></g><path class=\"edge\" d=\"M 0 0 V -108.068 H 51.75\" /><circle class=\"sym\" cx=\"0\" cy=\"0\" r=\"3\" /><text class=\"lab lft\" transform=\"translate(-3 -7.0)\">327</text></g><g class=\"a538 c3 node n486\" transform=\"translate(51.75 13.0084)\"><g class=\"a486 c2 node n136\" transform=\"translate(-55.5 159.274)\"><g class=\"a136 i11 leaf node n23 p2 sample\" transform=\"translate(-12 115.337)\"><path class=\"edge\" d=\"M 0 0 V -115.337 H 12\" /><rect class=\"sym\" height=\"6\" style=\"fill:green;\" width=\"6\" x=\"-3\" y=\"-3\" /><text class=\"lab\" transform=\"translate(0 11)\">23</text></g><g class=\"a136 i12 leaf node n24 p2 sample\" transform=\"translate(12 115.337)\"><path class=\"edge\" d=\"M 0 0 V -115.337 H -12\" /><rect class=\"sym\" height=\"6\" style=\"fill:green;\" width=\"6\" x=\"-3\" y=\"-3\" /><text class=\"lab\" transform=\"translate(0 11)\">24</text></g><path class=\"edge\" d=\"M 0 0 V -159.274 H 55.5\" /><circle class=\"sym\" cx=\"0\" cy=\"0\" r=\"3\" /><text class=\"lab lft\" transform=\"translate(-3 -7.0)\">136</text></g><g class=\"a486 c2 node n461\" transform=\"translate(55.5 13.8356)\"><g class=\"a461 c2 node n319\" transform=\"translate(33 212.054)\"><g class=\"a319 i17 leaf node n34 p3 sample\" transform=\"translate(-12 48.7218)\"><path class=\"edge\" d=\"M 0 0 V -48.7218 H 12\" /><rect class=\"sym\" height=\"6\" style=\"fill:yellow;\" width=\"6\" x=\"-3\" y=\"-3\" /><text class=\"lab\" transform=\"translate(0 11)\">34</text></g><g class=\"a319 i18 leaf node n37 p3 sample\" transform=\"translate(12 48.7218)\"><path class=\"edge\" d=\"M 0 0 V -48.7218 H -12\" /><rect class=\"sym\" height=\"6\" style=\"fill:yellow;\" width=\"6\" x=\"-3\" y=\"-3\" /><text class=\"lab\" transform=\"translate(0 11)\">37</text></g><path class=\"edge\" d=\"M 0 0 V -212.054 H -33\" /><circle class=\"sym\" cx=\"0\" cy=\"0\" r=\"3\" /><text class=\"lab rgt\" transform=\"translate(3 -7.0)\">319</text></g><g class=\"a461 c2 node n397\" transform=\"translate(-33 95.7811)\"><g class=\"a397 i13 leaf node n26 p2 sample\" transform=\"translate(-18 164.994)\"><path class=\"edge\" d=\"M 0 0 V -164.994 H 18\" /><rect class=\"sym\" height=\"6\" style=\"fill:green;\" width=\"6\" x=\"-3\" y=\"-3\" /><text class=\"lab\" transform=\"translate(0 11)\">26</text></g><g class=\"a397 c2 node n260\" transform=\"translate(18 28.5658)\"><g class=\"a260 i15 leaf node n30 p3 sample\" transform=\"translate(-12 136.428)\"><path class=\"edge\" d=\"M 0 0 V -136.428 H 12\" /><rect class=\"sym\" height=\"6\" style=\"fill:yellow;\" width=\"6\" x=\"-3\" y=\"-3\" /><text class=\"lab\" transform=\"translate(0 11)\">30</text></g><g class=\"a260 i18 leaf node n36 p3 sample\" transform=\"translate(12 136.428)\"><path class=\"edge\" d=\"M 0 0 V -136.428 H -12\" /><rect class=\"sym\" height=\"6\" style=\"fill:yellow;\" width=\"6\" x=\"-3\" y=\"-3\" /><text class=\"lab\" transform=\"translate(0 11)\">36</text></g><path class=\"edge\" d=\"M 0 0 V -28.5658 H -18\" /><circle class=\"sym\" cx=\"0\" cy=\"0\" r=\"3\" /><text class=\"lab rgt\" transform=\"translate(3 -7.0)\">260</text></g><path class=\"edge\" d=\"M 0 0 V -95.7811 H 33\" /><circle class=\"sym\" cx=\"0\" cy=\"0\" r=\"3\" /><text class=\"lab lft\" transform=\"translate(-3 -7.0)\">397</text></g><path class=\"edge\" d=\"M 0 0 V -13.8356 H -55.5\" /><circle class=\"sym\" cx=\"0\" cy=\"0\" r=\"3\" /><text class=\"lab rgt\" transform=\"translate(3 -7.0)\">461</text></g><g class=\"a486 i12 leaf node n25 p2 sample\" transform=\"translate(-19.5 274.611)\"><path class=\"edge\" d=\"M 0 0 V -274.611 H 19.5\" /><rect class=\"sym\" height=\"6\" style=\"fill:green;\" width=\"6\" x=\"-3\" y=\"-3\" /><text class=\"lab\" transform=\"translate(0 11)\">25</text></g><path class=\"edge\" d=\"M 0 0 V -13.0084 H -51.75\" /><circle class=\"sym\" cx=\"0\" cy=\"0\" r=\"3\" /><text class=\"lab rgt\" transform=\"translate(3 -7.0)\">486</text></g><path class=\"edge\" d=\"M 0 0 V -47.0085 H 124.125\" /><circle class=\"sym\" cx=\"0\" cy=\"0\" r=\"3\" /><text class=\"lab lft\" transform=\"translate(-3 -7.0)\">538</text></g><path class=\"edge\" d=\"M 0 0 V -47.4741 H 4.125\" /><circle class=\"sym\" cx=\"0\" cy=\"0\" r=\"3\" /><text class=\"lab rgt\" transform=\"translate(3 -7.0)\">589</text></g><path class=\"edge\" d=\"M 0 0 V -192.247 H 120\" /><g class=\"mut m36 s14 unknown_time\" transform=\"translate(0 -96.1233)\"><line x1=\"0\" x2=\"0\" y1=\"0\" y2=\"96.1233\" /><path class=\"sym\" d=\"M -3,-3 l 6,6 M -3,3 l 6,-6\" /><text class=\"lab lft\" transform=\"translate(-5 0)\">36</text></g><circle class=\"sym\" cx=\"0\" cy=\"0\" r=\"3\" /><text class=\"lab lft\" transform=\"translate(-3 -7.0)\">614</text></g><g class=\"a650 i7 leaf m35 node n15 p1 s14 sample\" transform=\"translate(120 574.349)\"><path class=\"edge\" d=\"M 0 0 V -574.349 H -120\" /><g class=\"mut m35 s14 unknown_time\" transform=\"translate(0 -287.174)\"><line x1=\"0\" x2=\"0\" y1=\"0\" y2=\"287.174\" /><path class=\"sym\" d=\"M -3,-3 l 6,6 M -3,3 l 6,-6\" /><text class=\"lab rgt\" transform=\"translate(5 0)\">35</text></g><rect class=\"sym\" height=\"6\" style=\"fill:blue;\" width=\"6\" x=\"-3\" y=\"-3\" /><text class=\"lab\" transform=\"translate(0 11)\">15</text></g><path class=\"edge\" d=\"M 0 0 V -67.0514 H -273.375\" /><circle class=\"sym\" cx=\"0\" cy=\"0\" r=\"3\" /><text class=\"lab rgt\" transform=\"translate(3 -7.0)\">650</text></g><circle class=\"sym\" cx=\"0\" cy=\"0\" r=\"3\" /><text class=\"lab\" transform=\"translate(0 -11)\">697</text></g></g></g></svg>'"
      ]
     },
     "execution_count": 204,
     "metadata": {},
     "output_type": "execute_result"
    }
   ],
   "source": [
    "globalTS.loc[2].treeObj.draw(width=1000, height=700, node_colours=node_colours)"
   ]
  },
  {
   "cell_type": "code",
   "execution_count": null,
   "metadata": {},
   "outputs": [],
   "source": [
    "def isRecipMonophyletic(tree, pop_by_node, pop_groups, boolean=True) :\n",
    "\n",
    "    nodes_by_pop = pd.DataFrame(columns=['nodes', 'optimalGroup']) # This will be the list of leaves per population\n",
    "\n",
    "    for root in tree.roots:\n",
    "        for leaf in tree.leaves(root):\n",
    "\n",
    "            current_pop = pop_by_node.loc[leaf, 'pop'] # Get the current leaf's population\n",
    "\n",
    "            if (current_pop not in nodes_by_pop.index):\n",
    "                nodes_by_pop.loc[current_pop, 'nodes'] = set() # Create a new entry for the population\n",
    "                # Set type is important here because it is unordered, so when comparing the list of nodes, order isn't important\n",
    "            nodes_by_pop.at[current_pop, 'nodes'].add(leaf) # Add the leaf to the population\n",
    "    \n",
    "    for pop_group in pop_groups:\n",
    "        nodes_by_pop.loc[pop_group[0], 'nodes'] = nodes_by_pop.loc[pop_group[0], 'nodes'].union(nodes_by_pop.loc[pop_group[1], 'nodes']) # Combine the two populations according to the defined population groups\n",
    "        # nodes_by_pop.at[pop_group[0], 'equivalentPops'] = pop_group # Store the equivalent populations for future reference\n",
    "        nodes_by_pop.drop(pop_group[1], inplace=True)\n",
    "    nodes_by_pop.reset_index(drop=True, inplace=True)\n",
    "\n",
    "    # First level analysis : boolean check if the populations are reciprocally monophyletic\n",
    "    nodes_by_pop['mrca'] = nodes_by_pop['nodes'].apply(lambda x: tree.mrca(*x)) # Identify the MRCA of the population's leaves\n",
    "    nodes_by_pop['toplevelChildren'] = nodes_by_pop['mrca'].apply(lambda x: set(tree.leaves(x))) # Identify the MRCA's children\n",
    "\n",
    "    # If each population's MRCA's children are the same as the population's leaves, all populations are reciprocally monophyletic\n",
    "    nodes_by_pop['isMonophyletic'] = nodes_by_pop['nodes'] == nodes_by_pop['toplevelChildren']\n",
    "    if nodes_by_pop['isMonophyletic'].all():\n",
    "        return float(1)\n",
    "    \n",
    "    elif not (boolean):\n",
    "        \n",
    "        # Second level analysis (optional) : return detailed score that quantifies how monophyletic the populations are\n",
    "        startNode = tree.parent(nodes_by_pop['mrca'].max()) if nodes_by_pop['mrca'].max() not in tree.roots else nodes_by_pop['mrca'].max()\n",
    "        gloLeaves = set(tree.leaves(startNode))\n",
    "        visitStack = [startNode]\n",
    "        while len(visitStack) > 0 :\n",
    "            currentNode = visitStack.pop()\n",
    "            foundOptimal = False\n",
    "            if currentNode == startNode or (currentNode not in nodes_by_pop['mrca'].values):\n",
    "                currentLeaves = set(tree.leaves(currentNode))\n",
    "                for pop in nodes_by_pop.index:\n",
    "                    if (currentLeaves.issubset(nodes_by_pop.loc[pop, 'nodes'])):\n",
    "                        if pd.isna(nodes_by_pop.at[pop, 'optimalGroup']) or len(currentLeaves) > len(nodes_by_pop.at[pop, 'optimalGroup']):\n",
    "                            nodes_by_pop.at[pop, 'optimalGroup'] = currentLeaves\n",
    "                        foundOptimal = True\n",
    "                        break\n",
    "            else :\n",
    "                foundOptimal = True\n",
    "            if not foundOptimal :\n",
    "                for child in tree.children(currentNode):\n",
    "                    if child not in gloLeaves:\n",
    "                        visitStack.append(child)\n",
    "        nodes_by_pop['rebels'] = (nodes_by_pop['nodes'] - nodes_by_pop['optimalGroup']).apply(lambda x: set() if pd.isna(x) else x)\n",
    "\n",
    "        # return float(1 - nodes_by_pop['rebels'].apply(lambda x: len(x)).sum() / len(list(tree.samples())))\n",
    "        return nodes_by_pop\n",
    "    else :\n",
    "        return float(0)"
   ]
  },
  {
   "cell_type": "code",
   "execution_count": 209,
   "metadata": {},
   "outputs": [
    {
     "data": {
      "text/html": [
       "<div>\n",
       "<style scoped>\n",
       "    .dataframe tbody tr th:only-of-type {\n",
       "        vertical-align: middle;\n",
       "    }\n",
       "\n",
       "    .dataframe tbody tr th {\n",
       "        vertical-align: top;\n",
       "    }\n",
       "\n",
       "    .dataframe thead th {\n",
       "        text-align: right;\n",
       "    }\n",
       "</style>\n",
       "<table border=\"1\" class=\"dataframe\">\n",
       "  <thead>\n",
       "    <tr style=\"text-align: right;\">\n",
       "      <th></th>\n",
       "      <th>nodes</th>\n",
       "      <th>optimalGroup</th>\n",
       "      <th>mrca</th>\n",
       "      <th>toplevelChildren</th>\n",
       "      <th>isMonophyletic</th>\n",
       "      <th>rebels</th>\n",
       "    </tr>\n",
       "  </thead>\n",
       "  <tbody>\n",
       "    <tr>\n",
       "      <th>0</th>\n",
       "      <td>{20, 21, 22, 23, 24, 25, 26, 27, 28, 29, 30, 3...</td>\n",
       "      <td>{33, 34, 35, 36, 37, 39, 20, 23, 24, 25, 26, 2...</td>\n",
       "      <td>697</td>\n",
       "      <td>{0, 1, 2, 3, 4, 5, 6, 7, 8, 9, 10, 11, 12, 13,...</td>\n",
       "      <td>False</td>\n",
       "      <td>{32, 38, 21, 22, 27, 31}</td>\n",
       "    </tr>\n",
       "    <tr>\n",
       "      <th>1</th>\n",
       "      <td>{0, 1, 2, 3, 4, 5, 6, 7, 8, 9, 10, 11, 12, 13,...</td>\n",
       "      <td>{1, 4, 6, 9, 10, 11, 12, 13, 17, 19}</td>\n",
       "      <td>697</td>\n",
       "      <td>{0, 1, 2, 3, 4, 5, 6, 7, 8, 9, 10, 11, 12, 13,...</td>\n",
       "      <td>False</td>\n",
       "      <td>{0, 2, 3, 5, 7, 8, 14, 15, 16, 18}</td>\n",
       "    </tr>\n",
       "  </tbody>\n",
       "</table>\n",
       "</div>"
      ],
      "text/plain": [
       "                                               nodes  \\\n",
       "0  {20, 21, 22, 23, 24, 25, 26, 27, 28, 29, 30, 3...   \n",
       "1  {0, 1, 2, 3, 4, 5, 6, 7, 8, 9, 10, 11, 12, 13,...   \n",
       "\n",
       "                                        optimalGroup  mrca  \\\n",
       "0  {33, 34, 35, 36, 37, 39, 20, 23, 24, 25, 26, 2...   697   \n",
       "1               {1, 4, 6, 9, 10, 11, 12, 13, 17, 19}   697   \n",
       "\n",
       "                                    toplevelChildren  isMonophyletic  \\\n",
       "0  {0, 1, 2, 3, 4, 5, 6, 7, 8, 9, 10, 11, 12, 13,...           False   \n",
       "1  {0, 1, 2, 3, 4, 5, 6, 7, 8, 9, 10, 11, 12, 13,...           False   \n",
       "\n",
       "                               rebels  \n",
       "0            {32, 38, 21, 22, 27, 31}  \n",
       "1  {0, 2, 3, 5, 7, 8, 14, 15, 16, 18}  "
      ]
     },
     "execution_count": 209,
     "metadata": {},
     "output_type": "execute_result"
    }
   ],
   "source": [
    "isRecipMonophyletic(globalTS.loc[2].treeObj, pop_by_node, pop_groups, False)"
   ]
  },
  {
   "cell_type": "code",
   "execution_count": null,
   "metadata": {},
   "outputs": [
    {
     "ename": "ValueError",
     "evalue": "The truth value of a DataFrame is ambiguous. Use a.empty, a.bool(), a.item(), a.any() or a.all().",
     "output_type": "error",
     "traceback": [
      "\u001b[1;31m---------------------------------------------------------------------------\u001b[0m",
      "\u001b[1;31mValueError\u001b[0m                                Traceback (most recent call last)",
      "\u001b[1;32m~\\AppData\\Local\\Temp\\ipykernel_16212\\2306882414.py\u001b[0m in \u001b[0;36m?\u001b[1;34m()\u001b[0m\n\u001b[0;32m     10\u001b[0m \u001b[1;32mif\u001b[0m \u001b[0mn_threads\u001b[0m \u001b[1;33m>\u001b[0m \u001b[1;36m1\u001b[0m \u001b[1;33m:\u001b[0m\u001b[1;33m\u001b[0m\u001b[1;33m\u001b[0m\u001b[0m\n\u001b[0;32m     11\u001b[0m     \u001b[0mpool\u001b[0m \u001b[1;33m=\u001b[0m \u001b[0mPool\u001b[0m\u001b[1;33m(\u001b[0m\u001b[0mn_threads\u001b[0m\u001b[1;33m)\u001b[0m \u001b[1;31m# Create a pool of 2 workers\u001b[0m\u001b[1;33m\u001b[0m\u001b[1;33m\u001b[0m\u001b[0m\n\u001b[0;32m     12\u001b[0m     \u001b[0mpercentages\u001b[0m \u001b[1;33m=\u001b[0m \u001b[0mnp\u001b[0m\u001b[1;33m.\u001b[0m\u001b[0marray\u001b[0m\u001b[1;33m(\u001b[0m\u001b[0mpool\u001b[0m\u001b[1;33m.\u001b[0m\u001b[0mmap\u001b[0m\u001b[1;33m(\u001b[0m\u001b[0mf\u001b[0m\u001b[1;33m,\u001b[0m \u001b[0mrange\u001b[0m\u001b[1;33m(\u001b[0m\u001b[0mn_samples\u001b[0m\u001b[1;33m)\u001b[0m\u001b[1;33m)\u001b[0m\u001b[1;33m)\u001b[0m \u001b[1;33m*\u001b[0m \u001b[1;36m100\u001b[0m \u001b[1;31m# Run bootstrap n_samples times in parallel\u001b[0m\u001b[1;33m\u001b[0m\u001b[1;33m\u001b[0m\u001b[0m\n\u001b[0;32m     13\u001b[0m \u001b[1;32melif\u001b[0m \u001b[0mn_threads\u001b[0m \u001b[1;33m==\u001b[0m \u001b[1;36m1\u001b[0m \u001b[1;33m:\u001b[0m\u001b[1;33m\u001b[0m\u001b[1;33m\u001b[0m\u001b[0m\n\u001b[1;32m---> 14\u001b[1;33m     \u001b[0mpercentages\u001b[0m \u001b[1;33m=\u001b[0m \u001b[0mnp\u001b[0m\u001b[1;33m.\u001b[0m\u001b[0marray\u001b[0m\u001b[1;33m(\u001b[0m\u001b[0mlist\u001b[0m\u001b[1;33m(\u001b[0m\u001b[0mmap\u001b[0m\u001b[1;33m(\u001b[0m\u001b[0mf\u001b[0m\u001b[1;33m,\u001b[0m \u001b[0mrange\u001b[0m\u001b[1;33m(\u001b[0m\u001b[0mn_samples\u001b[0m\u001b[1;33m)\u001b[0m\u001b[1;33m)\u001b[0m\u001b[1;33m)\u001b[0m\u001b[1;33m)\u001b[0m \u001b[1;33m*\u001b[0m \u001b[1;36m100\u001b[0m\u001b[1;33m\u001b[0m\u001b[1;33m\u001b[0m\u001b[0m\n\u001b[0m\u001b[0;32m     15\u001b[0m \u001b[1;32melse\u001b[0m \u001b[1;33m:\u001b[0m\u001b[1;33m\u001b[0m\u001b[1;33m\u001b[0m\u001b[0m\n\u001b[0;32m     16\u001b[0m     \u001b[1;32mraise\u001b[0m \u001b[0mValueError\u001b[0m\u001b[1;33m(\u001b[0m\u001b[1;34m\"ERROR | n_threads = \"\u001b[0m \u001b[1;33m+\u001b[0m \u001b[0mn_threads\u001b[0m \u001b[1;33m+\u001b[0m \u001b[1;34m\" | Cannot perform operation with less than 1 thread !\"\u001b[0m\u001b[1;33m)\u001b[0m\u001b[1;33m\u001b[0m\u001b[1;33m\u001b[0m\u001b[0m\n",
      "\u001b[1;32m~\\AppData\\Local\\Temp\\ipykernel_16212\\2306882414.py\u001b[0m in \u001b[0;36m?\u001b[1;34m(i)\u001b[0m\n\u001b[0;32m      4\u001b[0m \u001b[1;32mdef\u001b[0m \u001b[0mf\u001b[0m\u001b[1;33m(\u001b[0m\u001b[0mi\u001b[0m\u001b[1;33m)\u001b[0m \u001b[1;33m:\u001b[0m \u001b[1;31m# Define util to be run in parallel\u001b[0m\u001b[1;33m\u001b[0m\u001b[1;33m\u001b[0m\u001b[0m\n\u001b[0;32m      5\u001b[0m     \u001b[0mnp\u001b[0m\u001b[1;33m.\u001b[0m\u001b[0mrandom\u001b[0m\u001b[1;33m.\u001b[0m\u001b[0mseed\u001b[0m\u001b[1;33m(\u001b[0m\u001b[0mi\u001b[0m \u001b[1;33m+\u001b[0m \u001b[0mnp\u001b[0m\u001b[1;33m.\u001b[0m\u001b[0mrandom\u001b[0m\u001b[1;33m.\u001b[0m\u001b[0mrandint\u001b[0m\u001b[1;33m(\u001b[0m\u001b[1;36m0\u001b[0m\u001b[1;33m,\u001b[0m \u001b[1;36m10000\u001b[0m\u001b[1;33m)\u001b[0m\u001b[1;33m)\u001b[0m \u001b[1;31m# Necessary, because otherwise all workers will have the same seed\u001b[0m\u001b[1;33m\u001b[0m\u001b[1;33m\u001b[0m\u001b[0m\n\u001b[0;32m      6\u001b[0m     \u001b[0mbootstrap\u001b[0m \u001b[1;33m=\u001b[0m \u001b[0mglobalTS\u001b[0m\u001b[1;33m.\u001b[0m\u001b[0msample\u001b[0m\u001b[1;33m(\u001b[0m\u001b[0mn\u001b[0m\u001b[1;33m=\u001b[0m\u001b[0mint\u001b[0m\u001b[1;33m(\u001b[0m\u001b[0mlen\u001b[0m\u001b[1;33m(\u001b[0m\u001b[0mglobalTS\u001b[0m\u001b[1;33m)\u001b[0m \u001b[1;33m*\u001b[0m \u001b[1;36m0.9\u001b[0m\u001b[1;33m)\u001b[0m\u001b[1;33m,\u001b[0m \u001b[0mreplace\u001b[0m\u001b[1;33m=\u001b[0m\u001b[1;32mTrue\u001b[0m\u001b[1;33m)\u001b[0m \u001b[1;31m# Use pandas sample method to take random trees in the sequence for monophyly test\u001b[0m\u001b[1;33m\u001b[0m\u001b[1;33m\u001b[0m\u001b[0m\n\u001b[0;32m      7\u001b[0m     \u001b[0mbootstrap\u001b[0m\u001b[1;33m[\u001b[0m\u001b[1;34m'monophyletic'\u001b[0m\u001b[1;33m]\u001b[0m \u001b[1;33m=\u001b[0m \u001b[0mbootstrap\u001b[0m\u001b[1;33m.\u001b[0m\u001b[0mapply\u001b[0m\u001b[1;33m(\u001b[0m\u001b[1;32mlambda\u001b[0m \u001b[0mx\u001b[0m\u001b[1;33m:\u001b[0m \u001b[0misRecipMonophyletic\u001b[0m\u001b[1;33m(\u001b[0m\u001b[0mx\u001b[0m\u001b[1;33m.\u001b[0m\u001b[0mtreeObj\u001b[0m\u001b[1;33m,\u001b[0m \u001b[0mpop_by_node\u001b[0m\u001b[1;33m,\u001b[0m \u001b[0mpop_groups\u001b[0m\u001b[1;33m)\u001b[0m\u001b[1;33m,\u001b[0m \u001b[0maxis\u001b[0m\u001b[1;33m=\u001b[0m\u001b[1;36m1\u001b[0m\u001b[1;33m)\u001b[0m \u001b[1;31m# Runs the test\u001b[0m\u001b[1;33m\u001b[0m\u001b[1;33m\u001b[0m\u001b[0m\n\u001b[1;32m----> 8\u001b[1;33m     \u001b[1;32mreturn\u001b[0m \u001b[0mbootstrap\u001b[0m\u001b[1;33m[\u001b[0m\u001b[0mbootstrap\u001b[0m\u001b[1;33m[\u001b[0m\u001b[1;34m'monophyletic'\u001b[0m\u001b[1;33m]\u001b[0m \u001b[1;33m==\u001b[0m \u001b[1;32mTrue\u001b[0m\u001b[1;33m]\u001b[0m\u001b[1;33m[\u001b[0m\u001b[1;34m'span'\u001b[0m\u001b[1;33m]\u001b[0m\u001b[1;33m.\u001b[0m\u001b[0msum\u001b[0m\u001b[1;33m(\u001b[0m\u001b[1;33m)\u001b[0m \u001b[1;33m/\u001b[0m \u001b[0mbootstrap\u001b[0m\u001b[1;33m[\u001b[0m\u001b[1;34m'span'\u001b[0m\u001b[1;33m]\u001b[0m\u001b[1;33m.\u001b[0m\u001b[0msum\u001b[0m\u001b[1;33m(\u001b[0m\u001b[1;33m)\u001b[0m \u001b[1;31m# Gets the percentage of the sample trees that is monophyletic\u001b[0m\u001b[1;33m\u001b[0m\u001b[1;33m\u001b[0m\u001b[0m\n\u001b[0m",
      "\u001b[1;32md:\\Coding\\TSeqMonoPhyly\\.venv\\Lib\\site-packages\\pandas\\core\\ops\\common.py\u001b[0m in \u001b[0;36m?\u001b[1;34m(self, other)\u001b[0m\n\u001b[0;32m     72\u001b[0m                     \u001b[1;32mreturn\u001b[0m \u001b[0mNotImplemented\u001b[0m\u001b[1;33m\u001b[0m\u001b[1;33m\u001b[0m\u001b[0m\n\u001b[0;32m     73\u001b[0m \u001b[1;33m\u001b[0m\u001b[0m\n\u001b[0;32m     74\u001b[0m         \u001b[0mother\u001b[0m \u001b[1;33m=\u001b[0m \u001b[0mitem_from_zerodim\u001b[0m\u001b[1;33m(\u001b[0m\u001b[0mother\u001b[0m\u001b[1;33m)\u001b[0m\u001b[1;33m\u001b[0m\u001b[1;33m\u001b[0m\u001b[0m\n\u001b[0;32m     75\u001b[0m \u001b[1;33m\u001b[0m\u001b[0m\n\u001b[1;32m---> 76\u001b[1;33m         \u001b[1;32mreturn\u001b[0m \u001b[0mmethod\u001b[0m\u001b[1;33m(\u001b[0m\u001b[0mself\u001b[0m\u001b[1;33m,\u001b[0m \u001b[0mother\u001b[0m\u001b[1;33m)\u001b[0m\u001b[1;33m\u001b[0m\u001b[1;33m\u001b[0m\u001b[0m\n\u001b[0m",
      "\u001b[1;32md:\\Coding\\TSeqMonoPhyly\\.venv\\Lib\\site-packages\\pandas\\core\\arraylike.py\u001b[0m in \u001b[0;36m?\u001b[1;34m(self, other)\u001b[0m\n\u001b[0;32m     38\u001b[0m     \u001b[1;33m@\u001b[0m\u001b[0munpack_zerodim_and_defer\u001b[0m\u001b[1;33m(\u001b[0m\u001b[1;34m\"__eq__\"\u001b[0m\u001b[1;33m)\u001b[0m\u001b[1;33m\u001b[0m\u001b[1;33m\u001b[0m\u001b[0m\n\u001b[0;32m     39\u001b[0m     \u001b[1;32mdef\u001b[0m \u001b[0m__eq__\u001b[0m\u001b[1;33m(\u001b[0m\u001b[0mself\u001b[0m\u001b[1;33m,\u001b[0m \u001b[0mother\u001b[0m\u001b[1;33m)\u001b[0m\u001b[1;33m:\u001b[0m\u001b[1;33m\u001b[0m\u001b[1;33m\u001b[0m\u001b[0m\n\u001b[1;32m---> 40\u001b[1;33m         \u001b[1;32mreturn\u001b[0m \u001b[0mself\u001b[0m\u001b[1;33m.\u001b[0m\u001b[0m_cmp_method\u001b[0m\u001b[1;33m(\u001b[0m\u001b[0mother\u001b[0m\u001b[1;33m,\u001b[0m \u001b[0moperator\u001b[0m\u001b[1;33m.\u001b[0m\u001b[0meq\u001b[0m\u001b[1;33m)\u001b[0m\u001b[1;33m\u001b[0m\u001b[1;33m\u001b[0m\u001b[0m\n\u001b[0m",
      "\u001b[1;32md:\\Coding\\TSeqMonoPhyly\\.venv\\Lib\\site-packages\\pandas\\core\\series.py\u001b[0m in \u001b[0;36m?\u001b[1;34m(self, other, op)\u001b[0m\n\u001b[0;32m   6115\u001b[0m \u001b[1;33m\u001b[0m\u001b[0m\n\u001b[0;32m   6116\u001b[0m         \u001b[0mlvalues\u001b[0m \u001b[1;33m=\u001b[0m \u001b[0mself\u001b[0m\u001b[1;33m.\u001b[0m\u001b[0m_values\u001b[0m\u001b[1;33m\u001b[0m\u001b[1;33m\u001b[0m\u001b[0m\n\u001b[0;32m   6117\u001b[0m         \u001b[0mrvalues\u001b[0m \u001b[1;33m=\u001b[0m \u001b[0mextract_array\u001b[0m\u001b[1;33m(\u001b[0m\u001b[0mother\u001b[0m\u001b[1;33m,\u001b[0m \u001b[0mextract_numpy\u001b[0m\u001b[1;33m=\u001b[0m\u001b[1;32mTrue\u001b[0m\u001b[1;33m,\u001b[0m \u001b[0mextract_range\u001b[0m\u001b[1;33m=\u001b[0m\u001b[1;32mTrue\u001b[0m\u001b[1;33m)\u001b[0m\u001b[1;33m\u001b[0m\u001b[1;33m\u001b[0m\u001b[0m\n\u001b[0;32m   6118\u001b[0m \u001b[1;33m\u001b[0m\u001b[0m\n\u001b[1;32m-> 6119\u001b[1;33m         \u001b[0mres_values\u001b[0m \u001b[1;33m=\u001b[0m \u001b[0mops\u001b[0m\u001b[1;33m.\u001b[0m\u001b[0mcomparison_op\u001b[0m\u001b[1;33m(\u001b[0m\u001b[0mlvalues\u001b[0m\u001b[1;33m,\u001b[0m \u001b[0mrvalues\u001b[0m\u001b[1;33m,\u001b[0m \u001b[0mop\u001b[0m\u001b[1;33m)\u001b[0m\u001b[1;33m\u001b[0m\u001b[1;33m\u001b[0m\u001b[0m\n\u001b[0m\u001b[0;32m   6120\u001b[0m \u001b[1;33m\u001b[0m\u001b[0m\n\u001b[0;32m   6121\u001b[0m         \u001b[1;32mreturn\u001b[0m \u001b[0mself\u001b[0m\u001b[1;33m.\u001b[0m\u001b[0m_construct_result\u001b[0m\u001b[1;33m(\u001b[0m\u001b[0mres_values\u001b[0m\u001b[1;33m,\u001b[0m \u001b[0mname\u001b[0m\u001b[1;33m=\u001b[0m\u001b[0mres_name\u001b[0m\u001b[1;33m)\u001b[0m\u001b[1;33m\u001b[0m\u001b[1;33m\u001b[0m\u001b[0m\n",
      "\u001b[1;32md:\\Coding\\TSeqMonoPhyly\\.venv\\Lib\\site-packages\\pandas\\core\\ops\\array_ops.py\u001b[0m in \u001b[0;36m?\u001b[1;34m(left, right, op)\u001b[0m\n\u001b[0;32m    340\u001b[0m         \u001b[1;31m# GH#36377 going through the numexpr path would incorrectly raise\u001b[0m\u001b[1;33m\u001b[0m\u001b[1;33m\u001b[0m\u001b[0m\n\u001b[0;32m    341\u001b[0m         \u001b[1;32mreturn\u001b[0m \u001b[0minvalid_comparison\u001b[0m\u001b[1;33m(\u001b[0m\u001b[0mlvalues\u001b[0m\u001b[1;33m,\u001b[0m \u001b[0mrvalues\u001b[0m\u001b[1;33m,\u001b[0m \u001b[0mop\u001b[0m\u001b[1;33m)\u001b[0m\u001b[1;33m\u001b[0m\u001b[1;33m\u001b[0m\u001b[0m\n\u001b[0;32m    342\u001b[0m \u001b[1;33m\u001b[0m\u001b[0m\n\u001b[0;32m    343\u001b[0m     \u001b[1;32melif\u001b[0m \u001b[0mlvalues\u001b[0m\u001b[1;33m.\u001b[0m\u001b[0mdtype\u001b[0m \u001b[1;33m==\u001b[0m \u001b[0mobject\u001b[0m \u001b[1;32mor\u001b[0m \u001b[0misinstance\u001b[0m\u001b[1;33m(\u001b[0m\u001b[0mrvalues\u001b[0m\u001b[1;33m,\u001b[0m \u001b[0mstr\u001b[0m\u001b[1;33m)\u001b[0m\u001b[1;33m:\u001b[0m\u001b[1;33m\u001b[0m\u001b[1;33m\u001b[0m\u001b[0m\n\u001b[1;32m--> 344\u001b[1;33m         \u001b[0mres_values\u001b[0m \u001b[1;33m=\u001b[0m \u001b[0mcomp_method_OBJECT_ARRAY\u001b[0m\u001b[1;33m(\u001b[0m\u001b[0mop\u001b[0m\u001b[1;33m,\u001b[0m \u001b[0mlvalues\u001b[0m\u001b[1;33m,\u001b[0m \u001b[0mrvalues\u001b[0m\u001b[1;33m)\u001b[0m\u001b[1;33m\u001b[0m\u001b[1;33m\u001b[0m\u001b[0m\n\u001b[0m\u001b[0;32m    345\u001b[0m \u001b[1;33m\u001b[0m\u001b[0m\n\u001b[0;32m    346\u001b[0m     \u001b[1;32melse\u001b[0m\u001b[1;33m:\u001b[0m\u001b[1;33m\u001b[0m\u001b[1;33m\u001b[0m\u001b[0m\n\u001b[0;32m    347\u001b[0m         \u001b[0mres_values\u001b[0m \u001b[1;33m=\u001b[0m \u001b[0m_na_arithmetic_op\u001b[0m\u001b[1;33m(\u001b[0m\u001b[0mlvalues\u001b[0m\u001b[1;33m,\u001b[0m \u001b[0mrvalues\u001b[0m\u001b[1;33m,\u001b[0m \u001b[0mop\u001b[0m\u001b[1;33m,\u001b[0m \u001b[0mis_cmp\u001b[0m\u001b[1;33m=\u001b[0m\u001b[1;32mTrue\u001b[0m\u001b[1;33m)\u001b[0m\u001b[1;33m\u001b[0m\u001b[1;33m\u001b[0m\u001b[0m\n",
      "\u001b[1;32md:\\Coding\\TSeqMonoPhyly\\.venv\\Lib\\site-packages\\pandas\\core\\ops\\array_ops.py\u001b[0m in \u001b[0;36m?\u001b[1;34m(op, x, y)\u001b[0m\n\u001b[0;32m    125\u001b[0m         \u001b[1;32mif\u001b[0m \u001b[0mx\u001b[0m\u001b[1;33m.\u001b[0m\u001b[0mshape\u001b[0m \u001b[1;33m!=\u001b[0m \u001b[0my\u001b[0m\u001b[1;33m.\u001b[0m\u001b[0mshape\u001b[0m\u001b[1;33m:\u001b[0m\u001b[1;33m\u001b[0m\u001b[1;33m\u001b[0m\u001b[0m\n\u001b[0;32m    126\u001b[0m             \u001b[1;32mraise\u001b[0m \u001b[0mValueError\u001b[0m\u001b[1;33m(\u001b[0m\u001b[1;34m\"Shapes must match\"\u001b[0m\u001b[1;33m,\u001b[0m \u001b[0mx\u001b[0m\u001b[1;33m.\u001b[0m\u001b[0mshape\u001b[0m\u001b[1;33m,\u001b[0m \u001b[0my\u001b[0m\u001b[1;33m.\u001b[0m\u001b[0mshape\u001b[0m\u001b[1;33m)\u001b[0m\u001b[1;33m\u001b[0m\u001b[1;33m\u001b[0m\u001b[0m\n\u001b[0;32m    127\u001b[0m         \u001b[0mresult\u001b[0m \u001b[1;33m=\u001b[0m \u001b[0mlibops\u001b[0m\u001b[1;33m.\u001b[0m\u001b[0mvec_compare\u001b[0m\u001b[1;33m(\u001b[0m\u001b[0mx\u001b[0m\u001b[1;33m.\u001b[0m\u001b[0mravel\u001b[0m\u001b[1;33m(\u001b[0m\u001b[1;33m)\u001b[0m\u001b[1;33m,\u001b[0m \u001b[0my\u001b[0m\u001b[1;33m.\u001b[0m\u001b[0mravel\u001b[0m\u001b[1;33m(\u001b[0m\u001b[1;33m)\u001b[0m\u001b[1;33m,\u001b[0m \u001b[0mop\u001b[0m\u001b[1;33m)\u001b[0m\u001b[1;33m\u001b[0m\u001b[1;33m\u001b[0m\u001b[0m\n\u001b[0;32m    128\u001b[0m     \u001b[1;32melse\u001b[0m\u001b[1;33m:\u001b[0m\u001b[1;33m\u001b[0m\u001b[1;33m\u001b[0m\u001b[0m\n\u001b[1;32m--> 129\u001b[1;33m         \u001b[0mresult\u001b[0m \u001b[1;33m=\u001b[0m \u001b[0mlibops\u001b[0m\u001b[1;33m.\u001b[0m\u001b[0mscalar_compare\u001b[0m\u001b[1;33m(\u001b[0m\u001b[0mx\u001b[0m\u001b[1;33m.\u001b[0m\u001b[0mravel\u001b[0m\u001b[1;33m(\u001b[0m\u001b[1;33m)\u001b[0m\u001b[1;33m,\u001b[0m \u001b[0my\u001b[0m\u001b[1;33m,\u001b[0m \u001b[0mop\u001b[0m\u001b[1;33m)\u001b[0m\u001b[1;33m\u001b[0m\u001b[1;33m\u001b[0m\u001b[0m\n\u001b[0m\u001b[0;32m    130\u001b[0m     \u001b[1;32mreturn\u001b[0m \u001b[0mresult\u001b[0m\u001b[1;33m.\u001b[0m\u001b[0mreshape\u001b[0m\u001b[1;33m(\u001b[0m\u001b[0mx\u001b[0m\u001b[1;33m.\u001b[0m\u001b[0mshape\u001b[0m\u001b[1;33m)\u001b[0m\u001b[1;33m\u001b[0m\u001b[1;33m\u001b[0m\u001b[0m\n",
      "\u001b[1;32mops.pyx\u001b[0m in \u001b[0;36m?\u001b[1;34m()\u001b[0m\n\u001b[1;32m---> 95\u001b[1;33m \u001b[1;34m'Could not get source, probably due dynamically evaluated source code.'\u001b[0m\u001b[1;33m\u001b[0m\u001b[1;33m\u001b[0m\u001b[0m\n\u001b[0m",
      "\u001b[1;32md:\\Coding\\TSeqMonoPhyly\\.venv\\Lib\\site-packages\\pandas\\core\\generic.py\u001b[0m in \u001b[0;36m?\u001b[1;34m(self)\u001b[0m\n\u001b[0;32m   1575\u001b[0m     \u001b[1;33m@\u001b[0m\u001b[0mfinal\u001b[0m\u001b[1;33m\u001b[0m\u001b[1;33m\u001b[0m\u001b[0m\n\u001b[0;32m   1576\u001b[0m     \u001b[1;32mdef\u001b[0m \u001b[0m__nonzero__\u001b[0m\u001b[1;33m(\u001b[0m\u001b[0mself\u001b[0m\u001b[1;33m)\u001b[0m \u001b[1;33m->\u001b[0m \u001b[0mNoReturn\u001b[0m\u001b[1;33m:\u001b[0m\u001b[1;33m\u001b[0m\u001b[1;33m\u001b[0m\u001b[0m\n\u001b[1;32m-> 1577\u001b[1;33m         raise ValueError(\n\u001b[0m\u001b[0;32m   1578\u001b[0m             \u001b[1;33mf\"\u001b[0m\u001b[1;33mThe truth value of a \u001b[0m\u001b[1;33m{\u001b[0m\u001b[0mtype\u001b[0m\u001b[1;33m(\u001b[0m\u001b[0mself\u001b[0m\u001b[1;33m)\u001b[0m\u001b[1;33m.\u001b[0m\u001b[0m__name__\u001b[0m\u001b[1;33m}\u001b[0m\u001b[1;33m is ambiguous. \u001b[0m\u001b[1;33m\"\u001b[0m\u001b[1;33m\u001b[0m\u001b[1;33m\u001b[0m\u001b[0m\n\u001b[0;32m   1579\u001b[0m             \u001b[1;34m\"Use a.empty, a.bool(), a.item(), a.any() or a.all().\"\u001b[0m\u001b[1;33m\u001b[0m\u001b[1;33m\u001b[0m\u001b[0m\n\u001b[0;32m   1580\u001b[0m         \u001b[1;33m)\u001b[0m\u001b[1;33m\u001b[0m\u001b[1;33m\u001b[0m\u001b[0m\n",
      "\u001b[1;31mValueError\u001b[0m: The truth value of a DataFrame is ambiguous. Use a.empty, a.bool(), a.item(), a.any() or a.all()."
     ]
    }
   ],
   "source": [
    "n_threads = 1 # Threads to use for multiprocessing, 1 means no multiprocessing\n",
    "n_samples = 1 # 1 means no bootstrapping\n",
    "\n",
    "def f(i) : # Define util to be run in parallel\n",
    "    np.random.seed(i + np.random.randint(0, 10000)) # Necessary, because otherwise all workers will have the same seed\n",
    "    bootstrap = globalTS.sample(n=int(len(globalTS) * 0.9), replace=True) # Use pandas sample method to take random trees in the sequence for monophyly test\n",
    "    bootstrap['monophyletic'] = bootstrap.apply(lambda x: isRecipMonophyletic(x.treeObj, pop_by_node, pop_groups), axis=1) # Runs the test\n",
    "    return bootstrap[bootstrap['monophyletic'] == True]['span'].sum() / bootstrap['span'].sum() # Gets the percentage of the sample trees that is monophyletic\n",
    "\n",
    "if n_threads > 1 :\n",
    "    pool = Pool(n_threads) # Create a pool of 2 workers\n",
    "    percentages = np.array(pool.map(f, range(n_samples))) * 100 # Run bootstrap n_samples times in parallel\n",
    "elif n_threads == 1 :\n",
    "    percentages = np.array(list(map(f, range(n_samples)))) * 100\n",
    "else :\n",
    "    raise ValueError(\"ERROR | n_threads = \" + n_threads + \" | Cannot perform operation with less than 1 thread !\")"
   ]
  },
  {
   "cell_type": "markdown",
   "metadata": {},
   "source": [
    "### Monophyly test for the output"
   ]
  },
  {
   "cell_type": "code",
   "execution_count": 21,
   "metadata": {},
   "outputs": [],
   "source": [
    "# Runs the reciprocally monophyletic test on each tree and saves the boolean result in the monophyletic column\n",
    "\n",
    "globalTS['monophyletic'] = globalTS.apply(lambda x: isRecipMonophyletic(x.treeObj, pop_by_node, pop_groups), axis=1)\n",
    "singlepercentage = globalTS[globalTS['monophyletic'] == True]['span'].sum() / globalTS['span'].sum() * 100"
   ]
  },
  {
   "cell_type": "markdown",
   "metadata": {},
   "source": [
    "### Export results"
   ]
  },
  {
   "cell_type": "code",
   "execution_count": null,
   "metadata": {},
   "outputs": [],
   "source": [
    "# Export sampling data\n",
    "\n",
    "if n_samples > 0 :\n",
    "    sampling = {\n",
    "        \"meanSamplesPercentage\": percentages.mean(),\n",
    "        \"samplesStdDev\": percentages.std(),\n",
    "        \"confidence_interval\": {\n",
    "            \"bounds\": [5, 95],\n",
    "            \"lower\": np.percentile(percentages, 5),\n",
    "            \"upper\": np.percentile(percentages, 95)\n",
    "        },\n",
    "    }\n",
    "else :\n",
    "    sampling = {}"
   ]
  },
  {
   "cell_type": "code",
   "execution_count": 23,
   "metadata": {},
   "outputs": [],
   "source": [
    "endTime = datetime.now()"
   ]
  },
  {
   "cell_type": "code",
   "execution_count": null,
   "metadata": {},
   "outputs": [],
   "source": [
    "# Define output file format\n",
    "\n",
    "output = {\n",
    "    \"input\": {\n",
    "        \"dir\": inputdir,\n",
    "        \"files\": inputs\n",
    "    },\n",
    "    \"test\": \"reciprocal_monophyly\",\n",
    "    \"description\": \"Reciprocal monophyly test on the tree sequence\",\n",
    "    \"analysis_settings\": {\n",
    "        \"bootstrap_samples\": n_samples,\n",
    "        \"pop_groups\": pop_groups,\n",
    "    },\n",
    "    \"perf\" : {\n",
    "        \"multiprocessing\": n_threads > 1,\n",
    "        \"threads\": n_threads,\n",
    "        \"start\": startTime,\n",
    "        \"end\": endTime,\n",
    "        \"duration\": endTime - startTime\n",
    "    },\n",
    "    \"result\": {\n",
    "        \"sampling\": sampling,\n",
    "        \"raw\": {\n",
    "            \"positive\": int((globalTS['monophyletic'] == True).sum()),\n",
    "            \"negative\": int((globalTS['monophyletic'] == False).sum()),\n",
    "            \"total_trees\": len(globalTS),\n",
    "            \"percentage\": singlepercentage,\n",
    "            \"details\": globalTS[['file', 'bounds', 'span', 'monophyletic']].to_dict(orient='records')\n",
    "        },\n",
    "    }\n",
    "}"
   ]
  },
  {
   "cell_type": "code",
   "execution_count": 25,
   "metadata": {},
   "outputs": [],
   "source": [
    "json.dump(output, default=str, indent=4, fp=open(\"../../data/out/reciprocal_monophyly_result.json\", \"w\"))"
   ]
  }
 ],
 "metadata": {
  "kernelspec": {
   "display_name": ".venv",
   "language": "python",
   "name": "python3"
  },
  "language_info": {
   "codemirror_mode": {
    "name": "ipython",
    "version": 3
   },
   "file_extension": ".py",
   "mimetype": "text/x-python",
   "name": "python",
   "nbconvert_exporter": "python",
   "pygments_lexer": "ipython3",
   "version": "3.12.4"
  }
 },
 "nbformat": 4,
 "nbformat_minor": 2
}
